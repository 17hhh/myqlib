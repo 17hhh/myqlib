{
 "cells": [
  {
   "cell_type": "code",
   "execution_count": 6,
   "metadata": {},
   "outputs": [
    {
     "data": {
      "text/plain": [
       "tensor([[-1.6639,  0.9495,  1.4512, -0.6586],\n",
       "        [-3.1852,  2.2217,  2.7003, -1.6157]], grad_fn=<AddmmBackward0>)"
      ]
     },
     "execution_count": 6,
     "metadata": {},
     "output_type": "execute_result"
    }
   ],
   "source": [
    "import torch\n",
    "import torch.nn as nn\n",
    "import numpy as np\n",
    "import pandas as pd\n",
    "seed = 6\n",
    "np.random.seed(seed)\n",
    "torch.manual_seed(seed)\n",
    "torch.cuda.manual_seed(seed)\n",
    "torch.cuda.manual_seed_all(seed)\n",
    "\n",
    "input = torch.Tensor([[1, 2, 3],[4, 5, 6]])\n",
    "input.shape\n",
    "linear_layer = nn.Linear(3, 2)\n",
    "linear_layer2 = nn.Linear(3, 4)\n",
    "custom_weights = torch.tensor([[1.0, 2.0, 3.0], [4.0, 5.0, 6.0]], dtype=torch.float32)\n",
    "custom_bias = torch.tensor([0.5, -0.5], dtype=torch.float32)\n",
    "\n",
    "with torch.no_grad():\n",
    "    linear_layer.weight = torch.nn.Parameter(custom_weights)\n",
    "    linear_layer.bias = torch.nn.Parameter(custom_bias)\n",
    "output2 = linear_layer2(input)\n",
    "output2"
   ]
  },
  {
   "cell_type": "code",
   "execution_count": 3,
   "metadata": {},
   "outputs": [
    {
     "data": {
      "text/plain": [
       "tensor([[14.5000, 31.5000],\n",
       "        [32.5000, 76.5000]], grad_fn=<AddmmBackward0>)"
      ]
     },
     "execution_count": 3,
     "metadata": {},
     "output_type": "execute_result"
    }
   ],
   "source": [
    "linear_layer(input)"
   ]
  },
  {
   "cell_type": "code",
   "execution_count": 7,
   "metadata": {},
   "outputs": [
    {
     "data": {
      "text/plain": [
       "Parameter containing:\n",
       "tensor([[ 0.0694, -0.3841, -0.1925],\n",
       "        [-0.0407,  0.1539,  0.3109],\n",
       "        [-0.3294,  0.3250,  0.4208],\n",
       "        [ 0.1214, -0.1559, -0.2845]], requires_grad=True)"
      ]
     },
     "execution_count": 7,
     "metadata": {},
     "output_type": "execute_result"
    }
   ],
   "source": [
    "linear_layer2.weight"
   ]
  },
  {
   "cell_type": "code",
   "execution_count": 8,
   "metadata": {},
   "outputs": [
    {
     "data": {
      "text/plain": [
       "Parameter containing:\n",
       "tensor([[ 0.0694, -0.3841, -0.1925],\n",
       "        [-0.0407,  0.1539,  0.3109],\n",
       "        [-0.3294,  0.3250,  0.4208],\n",
       "        [ 0.1214, -0.1559, -0.2845]], requires_grad=True)"
      ]
     },
     "execution_count": 8,
     "metadata": {},
     "output_type": "execute_result"
    }
   ],
   "source": [
    "linear_layer2.weight"
   ]
  },
  {
   "cell_type": "code",
   "execution_count": 10,
   "metadata": {},
   "outputs": [
    {
     "name": "stdout",
     "output_type": "stream",
     "text": [
      "fc1.weight tensor([[-0.0380,  0.1043, -0.0491, -0.2470,  0.3125,  0.3058, -0.1567, -0.0977,\n",
      "         -0.1836,  0.1747],\n",
      "        [ 0.1561,  0.1063, -0.0985,  0.0144,  0.2049,  0.0887,  0.2992,  0.1330,\n",
      "         -0.2308, -0.2579],\n",
      "        [ 0.1911, -0.0560, -0.1233,  0.1661, -0.0762, -0.2388, -0.1307, -0.0341,\n",
      "         -0.0957,  0.0807],\n",
      "        [-0.0858,  0.3147,  0.1189, -0.1590, -0.1759, -0.1321,  0.1925, -0.1182,\n",
      "          0.0136,  0.2428],\n",
      "        [-0.0915, -0.0227, -0.1638,  0.2670,  0.1082, -0.0386, -0.1424,  0.2573,\n",
      "          0.1697,  0.0971]])\n",
      "fc1.bias tensor([ 0.1652,  0.2677,  0.1164, -0.2768, -0.1126])\n",
      "fc2.weight tensor([[-0.1589,  0.4457,  0.2211, -0.2520,  0.1845],\n",
      "        [-0.2141,  0.4138, -0.1269,  0.1480,  0.2971]])\n",
      "fc2.bias tensor([ 0.3158, -0.1042])\n"
     ]
    }
   ],
   "source": [
    "class SimpleNet(nn.Module):\n",
    "    def __init__(self):\n",
    "        super(SimpleNet, self).__init__()\n",
    "        self.fc1 = nn.Linear(10, 5)  # 输入特征数为10，输出特征数为5\n",
    "        self.fc2 = nn.Linear(5, 2)   # 输入特征数为5，输出特征数为2\n",
    " \n",
    "    def forward(self, x):\n",
    "        x = torch.relu(self.fc1(x))\n",
    "        x = self.fc2(x)\n",
    "        return x\n",
    " \n",
    "# 实例化网络\n",
    "model = SimpleNet()\n",
    " \n",
    "# 获取所有参数\n",
    "for name, param in model.named_parameters():\n",
    "    print(name, param.data)"
   ]
  },
  {
   "cell_type": "code",
   "execution_count": 11,
   "metadata": {},
   "outputs": [
    {
     "name": "stdout",
     "output_type": "stream",
     "text": [
      "Total number of parameters: 67\n"
     ]
    }
   ],
   "source": [
    "total_params = sum(p.numel() for p in model.parameters())\n",
    "print(f\"Total number of parameters: {total_params}\")"
   ]
  },
  {
   "cell_type": "code",
   "execution_count": null,
   "metadata": {},
   "outputs": [],
   "source": []
  }
 ],
 "metadata": {
  "kernelspec": {
   "display_name": "venv",
   "language": "python",
   "name": "python3"
  },
  "language_info": {
   "codemirror_mode": {
    "name": "ipython",
    "version": 3
   },
   "file_extension": ".py",
   "mimetype": "text/x-python",
   "name": "python",
   "nbconvert_exporter": "python",
   "pygments_lexer": "ipython3",
   "version": "3.11.9"
  }
 },
 "nbformat": 4,
 "nbformat_minor": 2
}
