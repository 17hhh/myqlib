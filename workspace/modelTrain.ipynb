{
 "cells": [
  {
   "cell_type": "code",
   "execution_count": 13,
   "metadata": {},
   "outputs": [
    {
     "name": "stderr",
     "output_type": "stream",
     "text": [
      "[909548:MainThread](2024-11-27 21:18:56,747) INFO - qlib.Initialization - [config.py:416] - default_conf: client.\n",
      "[909548:MainThread](2024-11-27 21:18:56,750) INFO - qlib.Initialization - [__init__.py:74] - qlib successfully initialized based on client settings.\n",
      "[909548:MainThread](2024-11-27 21:18:56,751) INFO - qlib.Initialization - [__init__.py:76] - data_path={'__DEFAULT_FREQ': PosixPath('/home/hhh/.qlib/qlib_data/cn_data')}\n"
     ]
    },
    {
     "data": {
      "text/html": [
       "<div>\n",
       "<style scoped>\n",
       "    .dataframe tbody tr th:only-of-type {\n",
       "        vertical-align: middle;\n",
       "    }\n",
       "\n",
       "    .dataframe tbody tr th {\n",
       "        vertical-align: top;\n",
       "    }\n",
       "\n",
       "    .dataframe thead tr th {\n",
       "        text-align: left;\n",
       "    }\n",
       "\n",
       "    .dataframe thead tr:last-of-type th {\n",
       "        text-align: right;\n",
       "    }\n",
       "</style>\n",
       "<table border=\"1\" class=\"dataframe\">\n",
       "  <thead>\n",
       "    <tr>\n",
       "      <th></th>\n",
       "      <th></th>\n",
       "      <th colspan=\"2\" halign=\"left\">feature</th>\n",
       "      <th>label</th>\n",
       "    </tr>\n",
       "    <tr>\n",
       "      <th></th>\n",
       "      <th></th>\n",
       "      <th>EMA10</th>\n",
       "      <th>EMA30</th>\n",
       "      <th>RET_1</th>\n",
       "    </tr>\n",
       "    <tr>\n",
       "      <th>datetime</th>\n",
       "      <th>instrument</th>\n",
       "      <th></th>\n",
       "      <th></th>\n",
       "      <th></th>\n",
       "    </tr>\n",
       "  </thead>\n",
       "  <tbody>\n",
       "    <tr>\n",
       "      <th rowspan=\"5\" valign=\"top\">2020-01-02</th>\n",
       "      <th>SH600000</th>\n",
       "      <td>9.171472</td>\n",
       "      <td>9.060854</td>\n",
       "      <td>1.010425</td>\n",
       "    </tr>\n",
       "    <tr>\n",
       "      <th>SH600004</th>\n",
       "      <td>6.221383</td>\n",
       "      <td>6.198955</td>\n",
       "      <td>0.992009</td>\n",
       "    </tr>\n",
       "    <tr>\n",
       "      <th>SH600009</th>\n",
       "      <td>25.708969</td>\n",
       "      <td>25.645361</td>\n",
       "      <td>0.999224</td>\n",
       "    </tr>\n",
       "    <tr>\n",
       "      <th>SH600010</th>\n",
       "      <td>4.653900</td>\n",
       "      <td>4.625497</td>\n",
       "      <td>1.007519</td>\n",
       "    </tr>\n",
       "    <tr>\n",
       "      <th>SH600011</th>\n",
       "      <td>2.117210</td>\n",
       "      <td>2.154742</td>\n",
       "      <td>1.000000</td>\n",
       "    </tr>\n",
       "    <tr>\n",
       "      <th>...</th>\n",
       "      <th>...</th>\n",
       "      <td>...</td>\n",
       "      <td>...</td>\n",
       "      <td>...</td>\n",
       "    </tr>\n",
       "    <tr>\n",
       "      <th rowspan=\"5\" valign=\"top\">2020-01-10</th>\n",
       "      <th>SZ300347</th>\n",
       "      <td>17.478148</td>\n",
       "      <td>17.084019</td>\n",
       "      <td>0.994388</td>\n",
       "    </tr>\n",
       "    <tr>\n",
       "      <th>SZ300408</th>\n",
       "      <td>2.253388</td>\n",
       "      <td>2.172849</td>\n",
       "      <td>1.002635</td>\n",
       "    </tr>\n",
       "    <tr>\n",
       "      <th>SZ300413</th>\n",
       "      <td>5.067583</td>\n",
       "      <td>4.742254</td>\n",
       "      <td>1.017136</td>\n",
       "    </tr>\n",
       "    <tr>\n",
       "      <th>SZ300433</th>\n",
       "      <td>2.601543</td>\n",
       "      <td>2.478502</td>\n",
       "      <td>1.060436</td>\n",
       "    </tr>\n",
       "    <tr>\n",
       "      <th>SZ300498</th>\n",
       "      <td>1.029452</td>\n",
       "      <td>1.002125</td>\n",
       "      <td>1.013001</td>\n",
       "    </tr>\n",
       "  </tbody>\n",
       "</table>\n",
       "<p>2100 rows × 3 columns</p>\n",
       "</div>"
      ],
      "text/plain": [
       "                         feature                label\n",
       "                           EMA10      EMA30     RET_1\n",
       "datetime   instrument                                \n",
       "2020-01-02 SH600000     9.171472   9.060854  1.010425\n",
       "           SH600004     6.221383   6.198955  0.992009\n",
       "           SH600009    25.708969  25.645361  0.999224\n",
       "           SH600010     4.653900   4.625497  1.007519\n",
       "           SH600011     2.117210   2.154742  1.000000\n",
       "...                          ...        ...       ...\n",
       "2020-01-10 SZ300347    17.478148  17.084019  0.994388\n",
       "           SZ300408     2.253388   2.172849  1.002635\n",
       "           SZ300413     5.067583   4.742254  1.017136\n",
       "           SZ300433     2.601543   2.478502  1.060436\n",
       "           SZ300498     1.029452   1.002125  1.013001\n",
       "\n",
       "[2100 rows x 3 columns]"
      ]
     },
     "execution_count": 13,
     "metadata": {},
     "output_type": "execute_result"
    }
   ],
   "source": [
    "# 初始化配置\n",
    "import qlib\n",
    "from qlib.constant import REG_CN\n",
    "data_uri = '~/.qlib/qlib_data/cn_data/'\n",
    "qlib.init(provider_uri=data_uri, region=REG_CN)\n",
    "\n",
    "# 使用\"配置\"进行实例化\n",
    "from qlib.utils import init_instance_by_config\n",
    "qdl_config = {\n",
    "    \"class\": \"QlibDataLoader\",\n",
    "    \"module_path\": \"qlib.data.dataset.loader\",\n",
    "    \"kwargs\": {\n",
    "        \"config\": {\n",
    "            \"feature\": (['EMA($close, 10)', 'EMA($close, 30)'], ['EMA10', 'EMA30'] ),\n",
    "            \"label\": (['Ref($close, -1)/$close - 1',],['RET_1',]),\n",
    "        },\n",
    "        \"freq\": 'day',\n",
    "    },\n",
    "}\n",
    "qdl = init_instance_by_config(qdl_config)\n",
    "market = 'csi300' # 沪深300股票池代码，在instruments文件夹下有对应的sh000300.txt\n",
    "qdl.load(instruments=market, start_time='20200101', end_time='20200110')"
   ]
  },
  {
   "cell_type": "code",
   "execution_count": 11,
   "metadata": {},
   "outputs": [
    {
     "name": "stderr",
     "output_type": "stream",
     "text": [
      "[909548:MainThread](2024-11-27 21:18:01,371) INFO - qlib.timer - [log.py:127] - Time cost: 1.600s | Loading data Done\n",
      "[909548:MainThread](2024-11-27 21:18:01,372) INFO - qlib.timer - [log.py:127] - Time cost: 0.000s | fit & process data Done\n",
      "[909548:MainThread](2024-11-27 21:18:01,372) INFO - qlib.timer - [log.py:127] - Time cost: 1.602s | Init data Done\n"
     ]
    },
    {
     "data": {
      "text/html": [
       "<div>\n",
       "<style scoped>\n",
       "    .dataframe tbody tr th:only-of-type {\n",
       "        vertical-align: middle;\n",
       "    }\n",
       "\n",
       "    .dataframe tbody tr th {\n",
       "        vertical-align: top;\n",
       "    }\n",
       "\n",
       "    .dataframe thead th {\n",
       "        text-align: right;\n",
       "    }\n",
       "</style>\n",
       "<table border=\"1\" class=\"dataframe\">\n",
       "  <thead>\n",
       "    <tr style=\"text-align: right;\">\n",
       "      <th></th>\n",
       "      <th></th>\n",
       "      <th>MACD</th>\n",
       "      <th>RSI</th>\n",
       "      <th>LABEL</th>\n",
       "    </tr>\n",
       "    <tr>\n",
       "      <th>datetime</th>\n",
       "      <th>instrument</th>\n",
       "      <th></th>\n",
       "      <th></th>\n",
       "      <th></th>\n",
       "    </tr>\n",
       "  </thead>\n",
       "  <tbody>\n",
       "    <tr>\n",
       "      <th rowspan=\"5\" valign=\"top\">2020-01-02</th>\n",
       "      <th>SH600000</th>\n",
       "      <td>0.006354</td>\n",
       "      <td>76.146812</td>\n",
       "      <td>0.010425</td>\n",
       "    </tr>\n",
       "    <tr>\n",
       "      <th>SH600004</th>\n",
       "      <td>0.002323</td>\n",
       "      <td>54.615391</td>\n",
       "      <td>-0.007991</td>\n",
       "    </tr>\n",
       "    <tr>\n",
       "      <th>SH600009</th>\n",
       "      <td>0.002592</td>\n",
       "      <td>44.651718</td>\n",
       "      <td>-0.000776</td>\n",
       "    </tr>\n",
       "    <tr>\n",
       "      <th>SH600010</th>\n",
       "      <td>0.003610</td>\n",
       "      <td>64.705887</td>\n",
       "      <td>0.007519</td>\n",
       "    </tr>\n",
       "    <tr>\n",
       "      <th>SH600011</th>\n",
       "      <td>-0.006209</td>\n",
       "      <td>46.551727</td>\n",
       "      <td>0.000000</td>\n",
       "    </tr>\n",
       "    <tr>\n",
       "      <th>...</th>\n",
       "      <th>...</th>\n",
       "      <td>...</td>\n",
       "      <td>...</td>\n",
       "      <td>...</td>\n",
       "    </tr>\n",
       "    <tr>\n",
       "      <th rowspan=\"5\" valign=\"top\">2020-06-30</th>\n",
       "      <th>SZ300413</th>\n",
       "      <td>0.054595</td>\n",
       "      <td>81.474556</td>\n",
       "      <td>-0.039496</td>\n",
       "    </tr>\n",
       "    <tr>\n",
       "      <th>SZ300433</th>\n",
       "      <td>0.062837</td>\n",
       "      <td>88.799995</td>\n",
       "      <td>0.053560</td>\n",
       "    </tr>\n",
       "    <tr>\n",
       "      <th>SZ300498</th>\n",
       "      <td>0.048884</td>\n",
       "      <td>46.736053</td>\n",
       "      <td>0.023864</td>\n",
       "    </tr>\n",
       "    <tr>\n",
       "      <th>SZ300601</th>\n",
       "      <td>0.031392</td>\n",
       "      <td>87.047409</td>\n",
       "      <td>-0.009254</td>\n",
       "    </tr>\n",
       "    <tr>\n",
       "      <th>SZ300628</th>\n",
       "      <td>0.054197</td>\n",
       "      <td>75.202118</td>\n",
       "      <td>-0.011720</td>\n",
       "    </tr>\n",
       "  </tbody>\n",
       "</table>\n",
       "<p>35100 rows × 3 columns</p>\n",
       "</div>"
      ],
      "text/plain": [
       "                           MACD        RSI     LABEL\n",
       "datetime   instrument                               \n",
       "2020-01-02 SH600000    0.006354  76.146812  0.010425\n",
       "           SH600004    0.002323  54.615391 -0.007991\n",
       "           SH600009    0.002592  44.651718 -0.000776\n",
       "           SH600010    0.003610  64.705887  0.007519\n",
       "           SH600011   -0.006209  46.551727  0.000000\n",
       "...                         ...        ...       ...\n",
       "2020-06-30 SZ300413    0.054595  81.474556 -0.039496\n",
       "           SZ300433    0.062837  88.799995  0.053560\n",
       "           SZ300498    0.048884  46.736053  0.023864\n",
       "           SZ300601    0.031392  87.047409 -0.009254\n",
       "           SZ300628    0.054197  75.202118 -0.011720\n",
       "\n",
       "[35100 rows x 3 columns]"
      ]
     },
     "execution_count": 11,
     "metadata": {},
     "output_type": "execute_result"
    }
   ],
   "source": [
    "# 实现一个自定义的特征集，MACD、RSI\n",
    "\n",
    "from qlib.data.dataset.handler import DataHandlerLP\n",
    "\n",
    "class MyFeatureSet(DataHandlerLP):\n",
    "    def __init__(self,\n",
    "                 instruments=\"csi300\", \n",
    "                 start_time=None,\n",
    "                 end_time=None,\n",
    "                 freq=\"day\",\n",
    "                 infer_processors=[],\n",
    "                 learn_processors=[],\n",
    "                 fit_start_time=None,\n",
    "                 fit_end_time=None,\n",
    "                 process_type=DataHandlerLP.PTYPE_A,\n",
    "                 filter_pipe=None,\n",
    "                 **kwargs,\n",
    "                ):\n",
    "        data_loader = {\n",
    "            \"class\": \"QlibDataLoader\",\n",
    "            \"kwargs\": {\n",
    "                \"config\": {\n",
    "                    \"feature\": self.get_feature_config(),\n",
    "                    \"label\": kwargs.get(\"label\", self.get_label_config()), # label可以自定义，也可以使用初始化时候的设置\n",
    "                },\n",
    "                \"filter_pipe\": filter_pipe,\n",
    "                \"freq\": freq,\n",
    "                },\n",
    "            }\n",
    "        super().__init__(\n",
    "            instruments=instruments,\n",
    "            start_time=start_time,\n",
    "            end_time=end_time,\n",
    "            data_loader=data_loader,\n",
    "            infer_processors=infer_processors,\n",
    "            learn_processors=learn_processors,\n",
    "            process_type=process_type,\n",
    "        )\n",
    "        \n",
    "    def get_feature_config(self):\n",
    "        \n",
    "        MACD = '(EMA($close, 12) - EMA($close, 26))/$close - EMA((EMA($close, 12) - EMA($close, 26))/$close, 9)/$close'\n",
    "        RSI = '100 - 100/(1+(Sum(Greater($close-Ref($close, 1),0), 14)/Count(($close-Ref($close, 1))>0, 14))/ (Sum(Abs(Greater(Ref($close, 1)-$close,0)), 14)/Count(($close-Ref($close, 1))<0, 14)))'\n",
    "        \n",
    "        return [MACD, RSI ], ['MACD', 'RSI']\n",
    "\n",
    "    def get_label_config(self):\n",
    "        return ([\"Ref($close, -1)/$close - 1\"], [\"LABEL\"])\n",
    "\n",
    "# 初始化的过程中已经完成的数据的load\n",
    "my_feature = MyFeatureSet(instruments='csi300', start_time='2020-01-01', end_time='2020-06-30')\n",
    "\n",
    "# my_feature.get_feature_config()\n",
    "my_feature.fetch() # my_feature.fetch(col_set='feature') / my_feature.fetch(col_set='label')"
   ]
  },
  {
   "cell_type": "code",
   "execution_count": 14,
   "metadata": {},
   "outputs": [
    {
     "name": "stderr",
     "output_type": "stream",
     "text": [
      "[909548:MainThread](2024-11-27 21:29:27,784) INFO - qlib.Initialization - [config.py:416] - default_conf: client.\n",
      "[909548:MainThread](2024-11-27 21:29:27,786) INFO - qlib.Initialization - [__init__.py:74] - qlib successfully initialized based on client settings.\n",
      "[909548:MainThread](2024-11-27 21:29:27,786) INFO - qlib.Initialization - [__init__.py:76] - data_path={'__DEFAULT_FREQ': PosixPath('/home/hhh/.qlib/qlib_data/cn_data')}\n"
     ]
    },
    {
     "name": "stdout",
     "output_type": "stream",
     "text": [
      "-------------DropnaLabel: label\n"
     ]
    },
    {
     "name": "stderr",
     "output_type": "stream",
     "text": [
      "[909548:MainThread](2024-11-27 21:29:41,436) INFO - qlib.timer - [log.py:127] - Time cost: 13.647s | Loading data Done\n",
      "/home/hhh/proj/qlib-main/venv/lib/python3.11/site-packages/numpy/lib/nanfunctions.py:1095: RuntimeWarning: All-NaN slice encountered\n",
      "  result = np.apply_along_axis(_nanmedian1d, axis, a, overwrite_input)\n",
      "[909548:MainThread](2024-11-27 21:29:45,048) INFO - qlib.timer - [log.py:127] - Time cost: 3.529s | RobustZScoreNorm Done\n",
      "[909548:MainThread](2024-11-27 21:29:45,179) INFO - qlib.timer - [log.py:127] - Time cost: 0.131s | Fillna Done\n",
      "[909548:MainThread](2024-11-27 21:29:45,256) INFO - qlib.timer - [log.py:127] - Time cost: 0.049s | DropnaLabel Done\n",
      "/home/hhh/proj/qlib-main/qlib/data/dataset/processor.py:370: SettingWithCopyWarning: \n",
      "A value is trying to be set on a copy of a slice from a DataFrame.\n",
      "Try using .loc[row_indexer,col_indexer] = value instead\n",
      "\n",
      "See the caveats in the documentation: https://pandas.pydata.org/pandas-docs/stable/user_guide/indexing.html#returning-a-view-versus-a-copy\n",
      "  df[cols] = t\n",
      "[909548:MainThread](2024-11-27 21:29:45,343) INFO - qlib.timer - [log.py:127] - Time cost: 0.085s | CSRankNorm Done\n",
      "[909548:MainThread](2024-11-27 21:29:45,344) INFO - qlib.timer - [log.py:127] - Time cost: 3.908s | fit & process data Done\n",
      "[909548:MainThread](2024-11-27 21:29:45,345) INFO - qlib.timer - [log.py:127] - Time cost: 17.557s | Init data Done\n"
     ]
    }
   ],
   "source": [
    "\n",
    "import qlib\n",
    "from qlib.constant import REG_CN\n",
    "data_uri = '~/.qlib/qlib_data/cn_data/'\n",
    "qlib.init(provider_uri=data_uri, region=REG_CN)\n",
    "from qlib.data.dataset.handler import DataHandlerLP\n",
    "\n",
    "# 使用\"配置\"进行实例化\n",
    "from qlib.utils import init_instance_by_config\n",
    "from qlib.contrib.data.handler import Alpha158\n",
    "from qlib.data.dataset import TSDatasetH\n",
    "from qlib.contrib.model.pytorch_alstm_ts import ALSTM\n",
    "\n",
    "# 配置数据\n",
    "train_period = (\"2017-01-01\", \"2018-12-31\")\n",
    "valid_period = (\"2019-01-01\", \"2019-12-31\")\n",
    "test_period = (\"2020-01-01\", \"2020-08-01\")\n",
    "\n",
    "dh = Alpha158(instruments='csi300', \n",
    "              start_time=train_period[0], \n",
    "              end_time=test_period[1],\n",
    "             fit_start_time = \"2018-01-01\",\n",
    "             fit_end_time = \"2019-12-31\",\n",
    "              infer_processors= [\n",
    "                        {\"class\": \"RobustZScoreNorm\", \"kwargs\": {\"fields_group\": \"feature\", \"clip_outlier\": \"true\"}},\n",
    "                        {\"class\": \"Fillna\", \"kwargs\": {\"fields_group\": \"feature\"}},\n",
    "                    ],\n",
    "            learn_processors= [\n",
    "                        \"DropnaLabel\",\n",
    "                        {\"class\": \"CSRankNorm\", \"kwargs\": {\"fields_group\": \"label\"}},  # CSRankNorm\n",
    "                    ],\n",
    "             )\n",
    "ds = TSDatasetH(handler=dh,\n",
    "                step_len=20, # 时间步数\n",
    "                segments={\"train\": train_period, \n",
    "                          \"valid\": valid_period, \n",
    "                          \"test\": test_period})\n"
   ]
  },
  {
   "cell_type": "code",
   "execution_count": 15,
   "metadata": {},
   "outputs": [
    {
     "data": {
      "text/plain": [
       "<qlib.data.dataset.TSDataSampler at 0x74e6dadb4050>"
      ]
     },
     "execution_count": 15,
     "metadata": {},
     "output_type": "execute_result"
    }
   ],
   "source": [
    "ds.prepare(\"train\")"
   ]
  },
  {
   "cell_type": "code",
   "execution_count": 16,
   "metadata": {},
   "outputs": [],
   "source": [
    "import torch\n",
    "import torch.nn as nn\n",
    "import torch.optim as optim\n",
    "from torch.utils.data import DataLoader\n",
    "#%%\n",
    "from qlib.data.dataset.handler import DataHandlerLP\n",
    "dl_train = ds.prepare(\"train\", col_set=[\"feature\", \"label\"], data_key=DataHandlerLP.DK_L)\n",
    "dl_valid = ds.prepare(\"valid\", col_set=[\"feature\", \"label\"], data_key=DataHandlerLP.DK_L)\n"
   ]
  },
  {
   "cell_type": "code",
   "execution_count": 17,
   "metadata": {},
   "outputs": [],
   "source": [
    "dl_train.config(fillna_type=\"ffill+bfill\")  # process nan brought by dataloader\n",
    "dl_valid.config(fillna_type=\"ffill+bfill\")"
   ]
  },
  {
   "cell_type": "code",
   "execution_count": 18,
   "metadata": {},
   "outputs": [],
   "source": [
    "import numpy as np\n",
    "import torch.nn as nn\n",
    "import torch\n",
    "import math\n",
    "seed = 32\n",
    "np.random.seed(seed) \n",
    "torch.cuda.manual_seed(seed)\n",
    "torch.cuda.manual_seed_all(seed)\n",
    "torch.manual_seed(seed)\n",
    "\n",
    "train_loader = DataLoader(\n",
    "dl_train, batch_size=8192, shuffle=False, num_workers=0, drop_last=True\n",
    ")\n",
    "valid_loader = DataLoader(\n",
    "dl_valid, batch_size=8192, shuffle=False, num_workers=0, drop_last=True\n",
    ")"
   ]
  },
  {
   "cell_type": "code",
   "execution_count": 20,
   "metadata": {},
   "outputs": [
    {
     "name": "stdout",
     "output_type": "stream",
     "text": [
      "Epoch 0\n"
     ]
    },
    {
     "ename": "AttributeError",
     "evalue": "'function' object has no attribute 'parameters'",
     "output_type": "error",
     "traceback": [
      "\u001b[0;31m---------------------------------------------------------------------------\u001b[0m",
      "\u001b[0;31mAttributeError\u001b[0m                            Traceback (most recent call last)",
      "Cell \u001b[0;32mIn[20], line 9\u001b[0m\n\u001b[1;32m      7\u001b[0m \u001b[38;5;28mprint\u001b[39m(\u001b[38;5;124m\"\u001b[39m\u001b[38;5;124mEpoch \u001b[39m\u001b[38;5;132;01m%d\u001b[39;00m\u001b[38;5;124m\"\u001b[39m \u001b[38;5;241m%\u001b[39m epoch)\n\u001b[1;32m      8\u001b[0m train_transformer(train_loader)\n\u001b[0;32m----> 9\u001b[0m total_params \u001b[38;5;241m=\u001b[39m \u001b[38;5;28msum\u001b[39m(p\u001b[38;5;241m.\u001b[39mnumel() \u001b[38;5;28;01mfor\u001b[39;00m p \u001b[38;5;129;01min\u001b[39;00m \u001b[43mtrain_transformer\u001b[49m\u001b[38;5;241;43m.\u001b[39;49m\u001b[43mparameters\u001b[49m())\n\u001b[1;32m     10\u001b[0m \u001b[38;5;28mprint\u001b[39m(\u001b[38;5;124mf\u001b[39m\u001b[38;5;124m\"\u001b[39m\u001b[38;5;124mTotal number of parameters: \u001b[39m\u001b[38;5;132;01m{\u001b[39;00mtotal_params\u001b[38;5;132;01m}\u001b[39;00m\u001b[38;5;124m\"\u001b[39m)\n\u001b[1;32m     11\u001b[0m train_loss, train_score \u001b[38;5;241m=\u001b[39mtest_transformer(train_loader)\n",
      "\u001b[0;31mAttributeError\u001b[0m: 'function' object has no attribute 'parameters'"
     ]
    }
   ],
   "source": [
    "from transformerModule import train_transformer, test_transformer\n",
    "import matplotlib.pyplot as plt\n",
    "n_epochs = 300\n",
    "train_losses = []\n",
    "val_losses = []\n",
    "for epoch in range(n_epochs):\n",
    "    print(\"Epoch %d\" % epoch)\n",
    "    train_transformer(train_loader)\n",
    "    train_loss, train_score =test_transformer(train_loader)\n",
    "    val_loss, val_score = test_transformer(valid_loader)\n",
    "    print(\"train %.6f, valid %.6f\" % (train_score, val_score))\n",
    "    train_losses.append(train_loss)\n",
    "    val_losses.append(val_loss)\n",
    "\n",
    "\n",
    "# 绘制损失曲线\n",
    "plt.figure(figsize=(10, 6))\n",
    "plt.plot(train_losses, label='Training Loss')\n",
    "plt.plot(val_losses, label='Validation Loss')\n",
    "plt.title('Loss Curve')\n",
    "plt.xlabel('Epochs')\n",
    "plt.ylabel('Loss')\n",
    "plt.legend()\n",
    "plt.grid(True)\n",
    "plt.show()"
   ]
  },
  {
   "cell_type": "code",
   "execution_count": null,
   "metadata": {},
   "outputs": [],
   "source": [
    "import matplotlib.pyplot as plt\n",
    " \n",
    "# 绘制损失曲线\n",
    "plt.figure(figsize=(10, 6))\n",
    "plt.plot(train_losses, label='Training Loss')\n",
    "plt.plot(val_losses, label='Validation Loss')\n",
    "plt.title('Loss Curve')\n",
    "plt.xlabel('Epochs')\n",
    "plt.ylabel('Loss')\n",
    "plt.legend()\n",
    "plt.grid(True)\n",
    "plt.show()"
   ]
  },
  {
   "cell_type": "code",
   "execution_count": 6,
   "metadata": {},
   "outputs": [],
   "source": [
    "for batch_idx, inputs in enumerate(train_loader):  \n",
    "    if batch_idx == 1:  \n",
    "        one_batch_data = inputs\n",
    "        break   \n"
   ]
  },
  {
   "cell_type": "code",
   "execution_count": 7,
   "metadata": {},
   "outputs": [
    {
     "data": {
      "text/plain": [
       "tensor([[[ 0.0523, -1.0427,  0.1084,  ..., -0.2180,  0.0299,  0.9825],\n",
       "         [ 0.0520, -1.1046,  0.1167,  ..., -0.3739,  0.0296, -0.9343],\n",
       "         [-0.1037, -1.0492, -0.2168,  ..., -0.7956, -0.9760, -0.7053],\n",
       "         ...,\n",
       "         [ 0.2251, -0.4222,  0.2639,  ..., -3.0000,  0.2505, -0.0363],\n",
       "         [ 0.2804, -0.2415,  0.2918,  ..., -3.0000,  0.1524,  0.5968],\n",
       "         [ 0.1116, -1.3579,  0.3794,  ..., -3.0000,  0.1392, -0.2713]],\n",
       "\n",
       "        [[ 0.0520, -1.1046,  0.1167,  ..., -0.3739,  0.0296, -0.9343],\n",
       "         [-0.1037, -1.0492, -0.2168,  ..., -0.7956, -0.9760, -0.7053],\n",
       "         [-0.4136, -0.9947, -0.8094,  ..., -0.8063, -0.1453, -0.6932],\n",
       "         ...,\n",
       "         [ 0.2804, -0.2415,  0.2918,  ..., -3.0000,  0.1524,  0.5968],\n",
       "         [ 0.1116, -1.3579,  0.3794,  ..., -3.0000,  0.1392, -0.2713],\n",
       "         [ 0.1667, -0.8083,  0.2678,  ..., -2.0803,  0.3007,  0.3556]],\n",
       "\n",
       "        [[-0.1037, -1.0492, -0.2168,  ..., -0.7956, -0.9760, -0.7053],\n",
       "         [-0.4136, -0.9947, -0.8094,  ..., -0.8063, -0.1453, -0.6932],\n",
       "         [-0.0520, -1.3345, -0.1686,  ..., -1.4582, -0.0045,  0.9557],\n",
       "         ...,\n",
       "         [ 0.1116, -1.3579,  0.3794,  ..., -3.0000,  0.1392, -0.2713],\n",
       "         [ 0.1667, -0.8083,  0.2678,  ..., -2.0803,  0.3007,  0.3556],\n",
       "         [-0.5565, -1.1136, -1.2647,  ..., -2.0561, -0.0289, -0.1882]],\n",
       "\n",
       "        ...,\n",
       "\n",
       "        [[-1.1715,  2.8235, -0.4198,  ..., -1.4478,  2.4069, -1.7176],\n",
       "         [-1.1897,  0.7752, -0.7588,  ..., -1.8157,  1.9499,  1.4448],\n",
       "         [-3.0000,  3.0000, -1.2258,  ..., -1.5183,  2.2007,  0.4684],\n",
       "         ...,\n",
       "         [-2.5059,  2.0011, -1.0896,  ..., -0.4043,  2.1498, -0.6626],\n",
       "         [-0.2817,  0.9472, -0.1686,  ..., -0.7351,  1.9893, -0.4172],\n",
       "         [ 0.3772, -0.0813,  0.3571,  ..., -1.1672,  1.7358, -1.6196]],\n",
       "\n",
       "        [[-1.1897,  0.7752, -0.7588,  ..., -1.8157,  1.9499,  1.4448],\n",
       "         [-3.0000,  3.0000, -1.2258,  ..., -1.5183,  2.2007,  0.4684],\n",
       "         [ 1.7155,  1.2674,  0.9214,  ..., -1.7835,  1.8667, -1.3038],\n",
       "         ...,\n",
       "         [-0.2817,  0.9472, -0.1686,  ..., -0.7351,  1.9893, -0.4172],\n",
       "         [ 0.3772, -0.0813,  0.3571,  ..., -1.1672,  1.7358, -1.6196],\n",
       "         [-0.0939, -0.1926, -0.0948,  ..., -2.1046,  1.8298, -0.2454]],\n",
       "\n",
       "        [[-3.0000,  3.0000, -1.2258,  ..., -1.5183,  2.2007,  0.4684],\n",
       "         [ 1.7155,  1.2674,  0.9214,  ..., -1.7835,  1.8667, -1.3038],\n",
       "         [ 0.2949,  0.2108,  0.2396,  ..., -1.5916,  1.7194,  1.7300],\n",
       "         ...,\n",
       "         [ 0.3772, -0.0813,  0.3571,  ..., -1.1672,  1.7358, -1.6196],\n",
       "         [-0.0939, -0.1926, -0.0948,  ..., -2.1046,  1.8298, -0.2454],\n",
       "         [-1.4209,  0.2401, -1.1382,  ..., -1.3230,  1.8581, -1.6444]]],\n",
       "       dtype=torch.float64)"
      ]
     },
     "execution_count": 7,
     "metadata": {},
     "output_type": "execute_result"
    }
   ],
   "source": [
    "one_batch_data"
   ]
  },
  {
   "cell_type": "code",
   "execution_count": 8,
   "metadata": {},
   "outputs": [
    {
     "data": {
      "text/plain": [
       "torch.Size([300, 20, 159])"
      ]
     },
     "execution_count": 8,
     "metadata": {},
     "output_type": "execute_result"
    }
   ],
   "source": [
    "# 一个batch的数据\n",
    "one_batch_data.shape"
   ]
  },
  {
   "cell_type": "code",
   "execution_count": 9,
   "metadata": {},
   "outputs": [
    {
     "name": "stdout",
     "output_type": "stream",
     "text": [
      "torch.Size([300, 20, 158])\n",
      "torch.Size([300])\n"
     ]
    }
   ],
   "source": [
    "\n",
    "# feature: (8192,20,158)\n",
    "feature = one_batch_data[:, :, 0:-1]\n",
    "# 8192\n",
    "label = one_batch_data[:, -1, -1]\n",
    "print(feature.shape)\n",
    "print(label.shape)\n"
   ]
  },
  {
   "cell_type": "code",
   "execution_count": 21,
   "metadata": {},
   "outputs": [
    {
     "name": "stdout",
     "output_type": "stream",
     "text": [
      "Total number of parameters: 1296543\n"
     ]
    },
    {
     "ename": "NameError",
     "evalue": "name 'feature' is not defined",
     "output_type": "error",
     "traceback": [
      "\u001b[0;31m---------------------------------------------------------------------------\u001b[0m",
      "\u001b[0;31mNameError\u001b[0m                                 Traceback (most recent call last)",
      "Cell \u001b[0;32mIn[21], line 24\u001b[0m\n\u001b[1;32m     22\u001b[0m total_params \u001b[38;5;241m=\u001b[39m \u001b[38;5;28msum\u001b[39m(p\u001b[38;5;241m.\u001b[39mnumel() \u001b[38;5;28;01mfor\u001b[39;00m p \u001b[38;5;129;01min\u001b[39;00m model\u001b[38;5;241m.\u001b[39mparameters())\n\u001b[1;32m     23\u001b[0m \u001b[38;5;28mprint\u001b[39m(\u001b[38;5;124mf\u001b[39m\u001b[38;5;124m\"\u001b[39m\u001b[38;5;124mTotal number of parameters: \u001b[39m\u001b[38;5;132;01m{\u001b[39;00mtotal_params\u001b[38;5;132;01m}\u001b[39;00m\u001b[38;5;124m\"\u001b[39m)\n\u001b[0;32m---> 24\u001b[0m pred \u001b[38;5;241m=\u001b[39m model\u001b[38;5;241m.\u001b[39mforward(\u001b[43mfeature\u001b[49m\u001b[38;5;241m.\u001b[39mfloat())\u001b[38;5;241m.\u001b[39msqueeze(\u001b[38;5;241m-\u001b[39m\u001b[38;5;241m1\u001b[39m)\n\u001b[1;32m     25\u001b[0m train_optimizer \u001b[38;5;241m=\u001b[39m optim\u001b[38;5;241m.\u001b[39mAdam(model\u001b[38;5;241m.\u001b[39mparameters(), lr\u001b[38;5;241m=\u001b[39m\u001b[38;5;241m0.0001\u001b[39m, weight_decay\u001b[38;5;241m=\u001b[39m\u001b[38;5;241m1e-3\u001b[39m)\n\u001b[1;32m     26\u001b[0m mask \u001b[38;5;241m=\u001b[39m \u001b[38;5;241m~\u001b[39mtorch\u001b[38;5;241m.\u001b[39misnan(label)\n",
      "\u001b[0;31mNameError\u001b[0m: name 'feature' is not defined"
     ]
    }
   ],
   "source": [
    "import numpy as np\n",
    "import torch.nn as nn\n",
    "import torch\n",
    "import torch.optim as optim\n",
    "import math\n",
    "seed = 32\n",
    "np.random.seed(seed) \n",
    "torch.cuda.manual_seed(seed)\n",
    "torch.cuda.manual_seed_all(seed)\n",
    "torch.manual_seed(seed)\n",
    "from transformerModule import PositionalEncoding, MultiHeadAttention,TransformerModule\n",
    "# linear = nn.Linear()\n",
    "\n",
    "# input = torch.randn(20,5,158)\n",
    "# mul_att1 = MultiHeadAttention(2,512,0)\n",
    "# mul_att_out1 = mul_att1.forward(input)\n",
    "# print(mul_att_out1)\n",
    "# mul_att2 = PositionalEncoding(512, 100)\n",
    "# mul_att_out2 = mul_att2.forward(input.float())\n",
    "# 模型输出测试\n",
    "model = TransformerModule(158, 512, 0.1, 6)\n",
    "pred = model.forward(feature.float()).squeeze(-1)\n",
    "train_optimizer = optim.Adam(model.parameters(), lr=0.0001, weight_decay=1e-3)\n",
    "mask = ~torch.isnan(label)\n",
    "loss = torch.mean((pred[mask]-label[mask])**2)\n",
    "train_optimizer.zero_grad()\n",
    "loss.backward()\n",
    "train_optimizer.step()\n",
    "print(pred.shape)\n",
    "print(pred)\n"
   ]
  },
  {
   "cell_type": "code",
   "execution_count": 12,
   "metadata": {},
   "outputs": [
    {
     "data": {
      "text/plain": [
       "device(type='cuda', index=0)"
      ]
     },
     "execution_count": 12,
     "metadata": {},
     "output_type": "execute_result"
    }
   ],
   "source": [
    "torch.device(\"cuda:0\" if torch.cuda.is_available() else \"cpu\")"
   ]
  },
  {
   "cell_type": "code",
   "execution_count": 19,
   "metadata": {},
   "outputs": [],
   "source": [
    "test = torch.rand(3,4,5)"
   ]
  },
  {
   "cell_type": "code",
   "execution_count": 20,
   "metadata": {},
   "outputs": [
    {
     "data": {
      "text/plain": [
       "tensor([[[0.7605, 0.8524, 0.6648, 0.9480, 0.4735],\n",
       "         [0.8731, 0.3785, 0.3258, 0.2027, 0.7167],\n",
       "         [0.8117, 0.1121, 0.6466, 0.9719, 0.9213],\n",
       "         [0.3831, 0.3930, 0.5797, 0.6329, 0.2640]],\n",
       "\n",
       "        [[0.9705, 0.4962, 0.7696, 0.2525, 0.0741],\n",
       "         [0.3559, 0.4318, 0.9146, 0.9795, 0.4408],\n",
       "         [0.9902, 0.5128, 0.5951, 0.8934, 0.2516],\n",
       "         [0.4185, 0.4892, 0.6723, 0.3938, 0.6720]],\n",
       "\n",
       "        [[0.8764, 0.2443, 0.3268, 0.9680, 0.2575],\n",
       "         [0.3969, 0.0577, 0.7201, 0.4786, 0.4490],\n",
       "         [0.8341, 0.8497, 0.9446, 0.2704, 0.6773],\n",
       "         [0.5130, 0.7120, 0.9063, 0.8501, 0.9215]]])"
      ]
     },
     "execution_count": 20,
     "metadata": {},
     "output_type": "execute_result"
    }
   ],
   "source": [
    "test"
   ]
  },
  {
   "cell_type": "code",
   "execution_count": 21,
   "metadata": {},
   "outputs": [
    {
     "data": {
      "text/plain": [
       "tensor([[0.3831, 0.3930, 0.5797, 0.6329, 0.2640],\n",
       "        [0.4185, 0.4892, 0.6723, 0.3938, 0.6720],\n",
       "        [0.5130, 0.7120, 0.9063, 0.8501, 0.9215]])"
      ]
     },
     "execution_count": 21,
     "metadata": {},
     "output_type": "execute_result"
    }
   ],
   "source": [
    "test[:,-1,:]"
   ]
  },
  {
   "cell_type": "code",
   "execution_count": 23,
   "metadata": {},
   "outputs": [
    {
     "data": {
      "text/plain": [
       "torch.Size([3, 5])"
      ]
     },
     "execution_count": 23,
     "metadata": {},
     "output_type": "execute_result"
    }
   ],
   "source": [
    "test[:,-1,:].shape"
   ]
  },
  {
   "cell_type": "code",
   "execution_count": 7,
   "metadata": {},
   "outputs": [
    {
     "name": "stdout",
     "output_type": "stream",
     "text": [
      "PyTorch version: 2.4.1+cu118\n",
      "CUDA is available\n",
      "CUDA version: 11.8\n",
      "GPU model: NVIDIA GeForce RTX 4070 Ti SUPER\n",
      "Current device: GPU\n"
     ]
    }
   ],
   "source": [
    "import torch\n",
    " \n",
    "# 检查 PyTorch 版本\n",
    "print(\"PyTorch version:\", torch.__version__)\n",
    " \n",
    "# 检查是否有可用的 CUDA\n",
    "if torch.cuda.is_available():\n",
    "    print(\"CUDA is available\")\n",
    "    # 打印出 CUDA 的版本信息\n",
    "    print(\"CUDA version:\", torch.version.cuda)\n",
    "    # 打印出 GPU 的型号\n",
    "    print(\"GPU model:\", torch.cuda.get_device_name(0))\n",
    "else:\n",
    "    print(\"CUDA is not available\")\n",
    " \n",
    "# 检查当前设备是 CPU 还是 GPU\n",
    "device = \"GPU\" if torch.cuda.is_available() else \"CPU\"\n",
    "print(f\"Current device: {device}\")"
   ]
  },
  {
   "cell_type": "code",
   "execution_count": 16,
   "metadata": {},
   "outputs": [
    {
     "data": {
      "image/png": "[encoded data removed]",
      "text/plain": [
       "<Figure size 640x480 with 1 Axes>"
      ]
     },
     "metadata": {},
     "output_type": "display_data"
    },
    {
     "data": {
      "text/plain": [
       "<Figure size 640x480 with 0 Axes>"
      ]
     },
     "metadata": {},
     "output_type": "display_data"
    },
    {
     "data": {
      "text/plain": [
       "<Figure size 640x480 with 0 Axes>"
      ]
     },
     "metadata": {},
     "output_type": "display_data"
    },
    {
     "data": {
      "text/plain": [
       "<Figure size 640x480 with 0 Axes>"
      ]
     },
     "metadata": {},
     "output_type": "display_data"
    },
    {
     "data": {
      "text/plain": [
       "<Figure size 640x480 with 0 Axes>"
      ]
     },
     "metadata": {},
     "output_type": "display_data"
    },
    {
     "data": {
      "text/plain": [
       "<Figure size 640x480 with 0 Axes>"
      ]
     },
     "metadata": {},
     "output_type": "display_data"
    },
    {
     "data": {
      "text/plain": [
       "<Figure size 640x480 with 0 Axes>"
      ]
     },
     "metadata": {},
     "output_type": "display_data"
    },
    {
     "data": {
      "text/plain": [
       "<Figure size 640x480 with 0 Axes>"
      ]
     },
     "metadata": {},
     "output_type": "display_data"
    },
    {
     "data": {
      "text/plain": [
       "<Figure size 640x480 with 0 Axes>"
      ]
     },
     "metadata": {},
     "output_type": "display_data"
    },
    {
     "data": {
      "text/plain": [
       "<Figure size 640x480 with 0 Axes>"
      ]
     },
     "metadata": {},
     "output_type": "display_data"
    },
    {
     "data": {
      "text/plain": [
       "<Figure size 640x480 with 0 Axes>"
      ]
     },
     "metadata": {},
     "output_type": "display_data"
    },
    {
     "data": {
      "text/plain": [
       "<Figure size 640x480 with 0 Axes>"
      ]
     },
     "metadata": {},
     "output_type": "display_data"
    },
    {
     "data": {
      "text/plain": [
       "<Figure size 640x480 with 0 Axes>"
      ]
     },
     "metadata": {},
     "output_type": "display_data"
    },
    {
     "data": {
      "text/plain": [
       "<Figure size 640x480 with 0 Axes>"
      ]
     },
     "metadata": {},
     "output_type": "display_data"
    },
    {
     "data": {
      "text/plain": [
       "<Figure size 640x480 with 0 Axes>"
      ]
     },
     "metadata": {},
     "output_type": "display_data"
    },
    {
     "data": {
      "text/plain": [
       "<Figure size 640x480 with 0 Axes>"
      ]
     },
     "metadata": {},
     "output_type": "display_data"
    },
    {
     "data": {
      "text/plain": [
       "<Figure size 640x480 with 0 Axes>"
      ]
     },
     "metadata": {},
     "output_type": "display_data"
    },
    {
     "data": {
      "text/plain": [
       "<Figure size 640x480 with 0 Axes>"
      ]
     },
     "metadata": {},
     "output_type": "display_data"
    },
    {
     "data": {
      "text/plain": [
       "<Figure size 640x480 with 0 Axes>"
      ]
     },
     "metadata": {},
     "output_type": "display_data"
    },
    {
     "data": {
      "text/plain": [
       "<Figure size 640x480 with 0 Axes>"
      ]
     },
     "metadata": {},
     "output_type": "display_data"
    }
   ],
   "source": []
  },
  {
   "cell_type": "code",
   "execution_count": null,
   "metadata": {},
   "outputs": [],
   "source": []
  }
 ],
 "metadata": {
  "kernelspec": {
   "display_name": "Python 3 (ipykernel)",
   "language": "python",
   "name": "python3"
  },
  "language_info": {
   "codemirror_mode": {
    "name": "ipython",
    "version": 3
   },
   "file_extension": ".py",
   "mimetype": "text/x-python",
   "name": "python",
   "nbconvert_exporter": "python",
   "pygments_lexer": "ipython3",
   "version": "3.11.9"
  }
 },
 "nbformat": 4,
 "nbformat_minor": 4
}
