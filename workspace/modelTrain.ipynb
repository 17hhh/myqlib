{
 "cells": [
  {
   "cell_type": "code",
   "execution_count": 1,
   "metadata": {},
   "outputs": [
    {
     "name": "stderr",
     "output_type": "stream",
     "text": [
      "[235289:MainThread](2024-11-13 21:35:54,387) INFO - qlib.Initialization - [config.py:416] - default_conf: client.\n",
      "[235289:MainThread](2024-11-13 21:35:54,583) INFO - qlib.Initialization - [__init__.py:74] - qlib successfully initialized based on client settings.\n",
      "[235289:MainThread](2024-11-13 21:35:54,584) INFO - qlib.Initialization - [__init__.py:76] - data_path={'__DEFAULT_FREQ': PosixPath('/home/hhh/.qlib/qlib_data/cn_data')}\n"
     ]
    },
    {
     "data": {
      "text/html": [
       "<div>\n",
       "<style scoped>\n",
       "    .dataframe tbody tr th:only-of-type {\n",
       "        vertical-align: middle;\n",
       "    }\n",
       "\n",
       "    .dataframe tbody tr th {\n",
       "        vertical-align: top;\n",
       "    }\n",
       "\n",
       "    .dataframe thead tr th {\n",
       "        text-align: left;\n",
       "    }\n",
       "\n",
       "    .dataframe thead tr:last-of-type th {\n",
       "        text-align: right;\n",
       "    }\n",
       "</style>\n",
       "<table border=\"1\" class=\"dataframe\">\n",
       "  <thead>\n",
       "    <tr>\n",
       "      <th></th>\n",
       "      <th></th>\n",
       "      <th colspan=\"2\" halign=\"left\">feature</th>\n",
       "      <th>label</th>\n",
       "    </tr>\n",
       "    <tr>\n",
       "      <th></th>\n",
       "      <th></th>\n",
       "      <th>EMA10</th>\n",
       "      <th>EMA30</th>\n",
       "      <th>RET_1</th>\n",
       "    </tr>\n",
       "    <tr>\n",
       "      <th>datetime</th>\n",
       "      <th>instrument</th>\n",
       "      <th></th>\n",
       "      <th></th>\n",
       "      <th></th>\n",
       "    </tr>\n",
       "  </thead>\n",
       "  <tbody>\n",
       "    <tr>\n",
       "      <th rowspan=\"5\" valign=\"top\">2020-01-02</th>\n",
       "      <th>SH600000</th>\n",
       "      <td>9.171472</td>\n",
       "      <td>9.060854</td>\n",
       "      <td>0.010425</td>\n",
       "    </tr>\n",
       "    <tr>\n",
       "      <th>SH600004</th>\n",
       "      <td>6.221383</td>\n",
       "      <td>6.198955</td>\n",
       "      <td>-0.007991</td>\n",
       "    </tr>\n",
       "    <tr>\n",
       "      <th>SH600009</th>\n",
       "      <td>25.708969</td>\n",
       "      <td>25.645361</td>\n",
       "      <td>-0.000776</td>\n",
       "    </tr>\n",
       "    <tr>\n",
       "      <th>SH600010</th>\n",
       "      <td>4.653900</td>\n",
       "      <td>4.625497</td>\n",
       "      <td>0.007519</td>\n",
       "    </tr>\n",
       "    <tr>\n",
       "      <th>SH600011</th>\n",
       "      <td>2.117210</td>\n",
       "      <td>2.154742</td>\n",
       "      <td>0.000000</td>\n",
       "    </tr>\n",
       "    <tr>\n",
       "      <th>...</th>\n",
       "      <th>...</th>\n",
       "      <td>...</td>\n",
       "      <td>...</td>\n",
       "      <td>...</td>\n",
       "    </tr>\n",
       "    <tr>\n",
       "      <th rowspan=\"5\" valign=\"top\">2020-01-10</th>\n",
       "      <th>SZ300347</th>\n",
       "      <td>17.478148</td>\n",
       "      <td>17.084019</td>\n",
       "      <td>-0.005612</td>\n",
       "    </tr>\n",
       "    <tr>\n",
       "      <th>SZ300408</th>\n",
       "      <td>2.253388</td>\n",
       "      <td>2.172849</td>\n",
       "      <td>0.002635</td>\n",
       "    </tr>\n",
       "    <tr>\n",
       "      <th>SZ300413</th>\n",
       "      <td>5.067583</td>\n",
       "      <td>4.742254</td>\n",
       "      <td>0.017136</td>\n",
       "    </tr>\n",
       "    <tr>\n",
       "      <th>SZ300433</th>\n",
       "      <td>2.601543</td>\n",
       "      <td>2.478502</td>\n",
       "      <td>0.060436</td>\n",
       "    </tr>\n",
       "    <tr>\n",
       "      <th>SZ300498</th>\n",
       "      <td>1.029452</td>\n",
       "      <td>1.002125</td>\n",
       "      <td>0.013001</td>\n",
       "    </tr>\n",
       "  </tbody>\n",
       "</table>\n",
       "<p>2100 rows × 3 columns</p>\n",
       "</div>"
      ],
      "text/plain": [
       "                         feature                label\n",
       "                           EMA10      EMA30     RET_1\n",
       "datetime   instrument                                \n",
       "2020-01-02 SH600000     9.171472   9.060854  0.010425\n",
       "           SH600004     6.221383   6.198955 -0.007991\n",
       "           SH600009    25.708969  25.645361 -0.000776\n",
       "           SH600010     4.653900   4.625497  0.007519\n",
       "           SH600011     2.117210   2.154742  0.000000\n",
       "...                          ...        ...       ...\n",
       "2020-01-10 SZ300347    17.478148  17.084019 -0.005612\n",
       "           SZ300408     2.253388   2.172849  0.002635\n",
       "           SZ300413     5.067583   4.742254  0.017136\n",
       "           SZ300433     2.601543   2.478502  0.060436\n",
       "           SZ300498     1.029452   1.002125  0.013001\n",
       "\n",
       "[2100 rows x 3 columns]"
      ]
     },
     "execution_count": 1,
     "metadata": {},
     "output_type": "execute_result"
    }
   ],
   "source": [
    "# 初始化配置\n",
    "import qlib\n",
    "from qlib.constant import REG_CN\n",
    "data_uri = '~/.qlib/qlib_data/cn_data/'\n",
    "qlib.init(provider_uri=data_uri, region=REG_CN)\n",
    "\n",
    "# 使用\"配置\"进行实例化\n",
    "from qlib.utils import init_instance_by_config\n",
    "qdl_config = {\n",
    "    \"class\": \"QlibDataLoader\",\n",
    "    \"module_path\": \"qlib.data.dataset.loader\",\n",
    "    \"kwargs\": {\n",
    "        \"config\": {\n",
    "            \"feature\": (['EMA($close, 10)', 'EMA($close, 30)'], ['EMA10', 'EMA30'] ),\n",
    "            \"label\": (['Ref($close, -1)/$close - 1',],['RET_1',]),\n",
    "        },\n",
    "        \"freq\": 'day',\n",
    "    },\n",
    "}\n",
    "qdl = init_instance_by_config(qdl_config)\n",
    "market = 'csi300' # 沪深300股票池代码，在instruments文件夹下有对应的sh000300.txt\n",
    "qdl.load(instruments=market, start_time='20200101', end_time='20200110')"
   ]
  },
  {
   "cell_type": "code",
   "execution_count": 2,
   "metadata": {},
   "outputs": [
    {
     "name": "stderr",
     "output_type": "stream",
     "text": [
      "[235289:MainThread](2024-11-13 21:35:56,399) INFO - qlib.timer - [log.py:127] - Time cost: 1.053s | Loading data Done\n",
      "[235289:MainThread](2024-11-13 21:35:56,400) INFO - qlib.timer - [log.py:127] - Time cost: 0.000s | fit & process data Done\n",
      "[235289:MainThread](2024-11-13 21:35:56,400) INFO - qlib.timer - [log.py:127] - Time cost: 1.054s | Init data Done\n"
     ]
    },
    {
     "data": {
      "text/html": [
       "<div>\n",
       "<style scoped>\n",
       "    .dataframe tbody tr th:only-of-type {\n",
       "        vertical-align: middle;\n",
       "    }\n",
       "\n",
       "    .dataframe tbody tr th {\n",
       "        vertical-align: top;\n",
       "    }\n",
       "\n",
       "    .dataframe thead th {\n",
       "        text-align: right;\n",
       "    }\n",
       "</style>\n",
       "<table border=\"1\" class=\"dataframe\">\n",
       "  <thead>\n",
       "    <tr style=\"text-align: right;\">\n",
       "      <th></th>\n",
       "      <th></th>\n",
       "      <th>MACD</th>\n",
       "      <th>RSI</th>\n",
       "      <th>LABEL</th>\n",
       "    </tr>\n",
       "    <tr>\n",
       "      <th>datetime</th>\n",
       "      <th>instrument</th>\n",
       "      <th></th>\n",
       "      <th></th>\n",
       "      <th></th>\n",
       "    </tr>\n",
       "  </thead>\n",
       "  <tbody>\n",
       "    <tr>\n",
       "      <th rowspan=\"5\" valign=\"top\">2020-01-02</th>\n",
       "      <th>SH600000</th>\n",
       "      <td>0.006354</td>\n",
       "      <td>76.146812</td>\n",
       "      <td>0.010425</td>\n",
       "    </tr>\n",
       "    <tr>\n",
       "      <th>SH600004</th>\n",
       "      <td>0.002323</td>\n",
       "      <td>54.615391</td>\n",
       "      <td>-0.007991</td>\n",
       "    </tr>\n",
       "    <tr>\n",
       "      <th>SH600009</th>\n",
       "      <td>0.002592</td>\n",
       "      <td>44.651718</td>\n",
       "      <td>-0.000776</td>\n",
       "    </tr>\n",
       "    <tr>\n",
       "      <th>SH600010</th>\n",
       "      <td>0.003610</td>\n",
       "      <td>64.705887</td>\n",
       "      <td>0.007519</td>\n",
       "    </tr>\n",
       "    <tr>\n",
       "      <th>SH600011</th>\n",
       "      <td>-0.006209</td>\n",
       "      <td>46.551727</td>\n",
       "      <td>0.000000</td>\n",
       "    </tr>\n",
       "    <tr>\n",
       "      <th>...</th>\n",
       "      <th>...</th>\n",
       "      <td>...</td>\n",
       "      <td>...</td>\n",
       "      <td>...</td>\n",
       "    </tr>\n",
       "    <tr>\n",
       "      <th rowspan=\"5\" valign=\"top\">2020-06-30</th>\n",
       "      <th>SZ300413</th>\n",
       "      <td>0.054595</td>\n",
       "      <td>81.474556</td>\n",
       "      <td>-0.039496</td>\n",
       "    </tr>\n",
       "    <tr>\n",
       "      <th>SZ300433</th>\n",
       "      <td>0.062837</td>\n",
       "      <td>88.799995</td>\n",
       "      <td>0.053560</td>\n",
       "    </tr>\n",
       "    <tr>\n",
       "      <th>SZ300498</th>\n",
       "      <td>0.048884</td>\n",
       "      <td>46.736053</td>\n",
       "      <td>0.023864</td>\n",
       "    </tr>\n",
       "    <tr>\n",
       "      <th>SZ300601</th>\n",
       "      <td>0.031392</td>\n",
       "      <td>87.047409</td>\n",
       "      <td>-0.009254</td>\n",
       "    </tr>\n",
       "    <tr>\n",
       "      <th>SZ300628</th>\n",
       "      <td>0.054197</td>\n",
       "      <td>75.202118</td>\n",
       "      <td>-0.011720</td>\n",
       "    </tr>\n",
       "  </tbody>\n",
       "</table>\n",
       "<p>35100 rows × 3 columns</p>\n",
       "</div>"
      ],
      "text/plain": [
       "                           MACD        RSI     LABEL\n",
       "datetime   instrument                               \n",
       "2020-01-02 SH600000    0.006354  76.146812  0.010425\n",
       "           SH600004    0.002323  54.615391 -0.007991\n",
       "           SH600009    0.002592  44.651718 -0.000776\n",
       "           SH600010    0.003610  64.705887  0.007519\n",
       "           SH600011   -0.006209  46.551727  0.000000\n",
       "...                         ...        ...       ...\n",
       "2020-06-30 SZ300413    0.054595  81.474556 -0.039496\n",
       "           SZ300433    0.062837  88.799995  0.053560\n",
       "           SZ300498    0.048884  46.736053  0.023864\n",
       "           SZ300601    0.031392  87.047409 -0.009254\n",
       "           SZ300628    0.054197  75.202118 -0.011720\n",
       "\n",
       "[35100 rows x 3 columns]"
      ]
     },
     "execution_count": 2,
     "metadata": {},
     "output_type": "execute_result"
    }
   ],
   "source": [
    "# 实现一个自定义的特征集，MACD、RSI\n",
    "\n",
    "from qlib.data.dataset.handler import DataHandlerLP\n",
    "\n",
    "class MyFeatureSet(DataHandlerLP):\n",
    "    def __init__(self,\n",
    "                 instruments=\"csi300\", \n",
    "                 start_time=None,\n",
    "                 end_time=None,\n",
    "                 freq=\"day\",\n",
    "                 infer_processors=[],\n",
    "                 learn_processors=[],\n",
    "                 fit_start_time=None,\n",
    "                 fit_end_time=None,\n",
    "                 process_type=DataHandlerLP.PTYPE_A,\n",
    "                 filter_pipe=None,\n",
    "                 **kwargs,\n",
    "                ):\n",
    "        data_loader = {\n",
    "            \"class\": \"QlibDataLoader\",\n",
    "            \"kwargs\": {\n",
    "                \"config\": {\n",
    "                    \"feature\": self.get_feature_config(),\n",
    "                    \"label\": kwargs.get(\"label\", self.get_label_config()), # label可以自定义，也可以使用初始化时候的设置\n",
    "                },\n",
    "                \"filter_pipe\": filter_pipe,\n",
    "                \"freq\": freq,\n",
    "                },\n",
    "            }\n",
    "        super().__init__(\n",
    "            instruments=instruments,\n",
    "            start_time=start_time,\n",
    "            end_time=end_time,\n",
    "            data_loader=data_loader,\n",
    "            infer_processors=infer_processors,\n",
    "            learn_processors=learn_processors,\n",
    "            process_type=process_type,\n",
    "        )\n",
    "        \n",
    "    def get_feature_config(self):\n",
    "        \n",
    "        MACD = '(EMA($close, 12) - EMA($close, 26))/$close - EMA((EMA($close, 12) - EMA($close, 26))/$close, 9)/$close'\n",
    "        RSI = '100 - 100/(1+(Sum(Greater($close-Ref($close, 1),0), 14)/Count(($close-Ref($close, 1))>0, 14))/ (Sum(Abs(Greater(Ref($close, 1)-$close,0)), 14)/Count(($close-Ref($close, 1))<0, 14)))'\n",
    "        \n",
    "        return [MACD, RSI ], ['MACD', 'RSI']\n",
    "\n",
    "    def get_label_config(self):\n",
    "        return ([\"Ref($close, -1)/$close - 1\"], [\"LABEL\"])\n",
    "\n",
    "# 初始化的过程中已经完成的数据的load\n",
    "my_feature = MyFeatureSet(instruments='csi300', start_time='2020-01-01', end_time='2020-06-30')\n",
    "\n",
    "# my_feature.get_feature_config()\n",
    "my_feature.fetch() # my_feature.fetch(col_set='feature') / my_feature.fetch(col_set='label')"
   ]
  },
  {
   "cell_type": "code",
   "execution_count": 3,
   "metadata": {},
   "outputs": [
    {
     "name": "stderr",
     "output_type": "stream",
     "text": [
      "[235289:MainThread](2024-11-13 21:35:56,420) INFO - qlib.Initialization - [config.py:416] - default_conf: client.\n",
      "[235289:MainThread](2024-11-13 21:35:56,422) INFO - qlib.Initialization - [__init__.py:74] - qlib successfully initialized based on client settings.\n",
      "[235289:MainThread](2024-11-13 21:35:56,423) INFO - qlib.Initialization - [__init__.py:76] - data_path={'__DEFAULT_FREQ': PosixPath('/home/hhh/.qlib/qlib_data/cn_data')}\n"
     ]
    },
    {
     "name": "stdout",
     "output_type": "stream",
     "text": [
      "ModuleNotFoundError. CatBoostModel are skipped. (optional: maybe installing CatBoostModel can fix it.)\n",
      "ModuleNotFoundError. XGBModel is skipped(optional: maybe installing xgboost can fix it).\n",
      "-------------DropnaLabel: label\n"
     ]
    },
    {
     "name": "stderr",
     "output_type": "stream",
     "text": [
      "/home/hhh/proj/qlib-main/venv/lib/python3.11/site-packages/tqdm/auto.py:21: TqdmWarning: IProgress not found. Please update jupyter and ipywidgets. See https://ipywidgets.readthedocs.io/en/stable/user_install.html\n",
      "  from .autonotebook import tqdm as notebook_tqdm\n"
     ]
    },
    {
     "ename": "KeyboardInterrupt",
     "evalue": "",
     "output_type": "error",
     "traceback": [
      "\u001b[0;31m---------------------------------------------------------------------------\u001b[0m",
      "\u001b[0;31mTypeError\u001b[0m                                 Traceback (most recent call last)",
      "File \u001b[0;32m~/proj/qlib-main/qlib/data/data.py:1186\u001b[0m, in \u001b[0;36mBaseProvider.features\u001b[0;34m(self, instruments, fields, start_time, end_time, freq, disk_cache, inst_processors)\u001b[0m\n\u001b[1;32m   1185\u001b[0m \u001b[38;5;28;01mtry\u001b[39;00m:\n\u001b[0;32m-> 1186\u001b[0m     \u001b[38;5;28;01mreturn\u001b[39;00m \u001b[43mDatasetD\u001b[49m\u001b[38;5;241;43m.\u001b[39;49m\u001b[43mdataset\u001b[49m\u001b[43m(\u001b[49m\n\u001b[1;32m   1187\u001b[0m \u001b[43m        \u001b[49m\u001b[43minstruments\u001b[49m\u001b[43m,\u001b[49m\u001b[43m \u001b[49m\u001b[43mfields\u001b[49m\u001b[43m,\u001b[49m\u001b[43m \u001b[49m\u001b[43mstart_time\u001b[49m\u001b[43m,\u001b[49m\u001b[43m \u001b[49m\u001b[43mend_time\u001b[49m\u001b[43m,\u001b[49m\u001b[43m \u001b[49m\u001b[43mfreq\u001b[49m\u001b[43m,\u001b[49m\u001b[43m \u001b[49m\u001b[43mdisk_cache\u001b[49m\u001b[43m,\u001b[49m\u001b[43m \u001b[49m\u001b[43minst_processors\u001b[49m\u001b[38;5;241;43m=\u001b[39;49m\u001b[43minst_processors\u001b[49m\n\u001b[1;32m   1188\u001b[0m \u001b[43m    \u001b[49m\u001b[43m)\u001b[49m\n\u001b[1;32m   1189\u001b[0m \u001b[38;5;28;01mexcept\u001b[39;00m \u001b[38;5;167;01mTypeError\u001b[39;00m:\n",
      "\u001b[0;31mTypeError\u001b[0m: LocalDatasetProvider.dataset() got multiple values for argument 'inst_processors'",
      "\nDuring handling of the above exception, another exception occurred:\n",
      "\u001b[0;31mKeyboardInterrupt\u001b[0m                         Traceback (most recent call last)",
      "Cell \u001b[0;32mIn[3], line 18\u001b[0m\n\u001b[1;32m     15\u001b[0m valid_period \u001b[38;5;241m=\u001b[39m (\u001b[38;5;124m\"\u001b[39m\u001b[38;5;124m2019-01-01\u001b[39m\u001b[38;5;124m\"\u001b[39m, \u001b[38;5;124m\"\u001b[39m\u001b[38;5;124m2019-12-31\u001b[39m\u001b[38;5;124m\"\u001b[39m)\n\u001b[1;32m     16\u001b[0m test_period \u001b[38;5;241m=\u001b[39m (\u001b[38;5;124m\"\u001b[39m\u001b[38;5;124m2020-01-01\u001b[39m\u001b[38;5;124m\"\u001b[39m, \u001b[38;5;124m\"\u001b[39m\u001b[38;5;124m2020-08-01\u001b[39m\u001b[38;5;124m\"\u001b[39m)\n\u001b[0;32m---> 18\u001b[0m dh \u001b[38;5;241m=\u001b[39m \u001b[43mAlpha158\u001b[49m\u001b[43m(\u001b[49m\u001b[43minstruments\u001b[49m\u001b[38;5;241;43m=\u001b[39;49m\u001b[38;5;124;43m'\u001b[39;49m\u001b[38;5;124;43mcsi300\u001b[39;49m\u001b[38;5;124;43m'\u001b[39;49m\u001b[43m,\u001b[49m\u001b[43m \u001b[49m\n\u001b[1;32m     19\u001b[0m \u001b[43m              \u001b[49m\u001b[43mstart_time\u001b[49m\u001b[38;5;241;43m=\u001b[39;49m\u001b[43mtrain_period\u001b[49m\u001b[43m[\u001b[49m\u001b[38;5;241;43m0\u001b[39;49m\u001b[43m]\u001b[49m\u001b[43m,\u001b[49m\u001b[43m \u001b[49m\n\u001b[1;32m     20\u001b[0m \u001b[43m              \u001b[49m\u001b[43mend_time\u001b[49m\u001b[38;5;241;43m=\u001b[39;49m\u001b[43mtest_period\u001b[49m\u001b[43m[\u001b[49m\u001b[38;5;241;43m1\u001b[39;49m\u001b[43m]\u001b[49m\u001b[43m,\u001b[49m\n\u001b[1;32m     21\u001b[0m \u001b[43m             \u001b[49m\u001b[43mfit_start_time\u001b[49m\u001b[43m \u001b[49m\u001b[38;5;241;43m=\u001b[39;49m\u001b[43m \u001b[49m\u001b[38;5;124;43m\"\u001b[39;49m\u001b[38;5;124;43m2018-01-01\u001b[39;49m\u001b[38;5;124;43m\"\u001b[39;49m\u001b[43m,\u001b[49m\n\u001b[1;32m     22\u001b[0m \u001b[43m             \u001b[49m\u001b[43mfit_end_time\u001b[49m\u001b[43m \u001b[49m\u001b[38;5;241;43m=\u001b[39;49m\u001b[43m \u001b[49m\u001b[38;5;124;43m\"\u001b[39;49m\u001b[38;5;124;43m2019-12-31\u001b[39;49m\u001b[38;5;124;43m\"\u001b[39;49m\u001b[43m,\u001b[49m\n\u001b[1;32m     23\u001b[0m \u001b[43m              \u001b[49m\u001b[43minfer_processors\u001b[49m\u001b[38;5;241;43m=\u001b[39;49m\u001b[43m \u001b[49m\u001b[43m[\u001b[49m\n\u001b[1;32m     24\u001b[0m \u001b[43m                        \u001b[49m\u001b[43m{\u001b[49m\u001b[38;5;124;43m\"\u001b[39;49m\u001b[38;5;124;43mclass\u001b[39;49m\u001b[38;5;124;43m\"\u001b[39;49m\u001b[43m:\u001b[49m\u001b[43m \u001b[49m\u001b[38;5;124;43m\"\u001b[39;49m\u001b[38;5;124;43mRobustZScoreNorm\u001b[39;49m\u001b[38;5;124;43m\"\u001b[39;49m\u001b[43m,\u001b[49m\u001b[43m \u001b[49m\u001b[38;5;124;43m\"\u001b[39;49m\u001b[38;5;124;43mkwargs\u001b[39;49m\u001b[38;5;124;43m\"\u001b[39;49m\u001b[43m:\u001b[49m\u001b[43m \u001b[49m\u001b[43m{\u001b[49m\u001b[38;5;124;43m\"\u001b[39;49m\u001b[38;5;124;43mfields_group\u001b[39;49m\u001b[38;5;124;43m\"\u001b[39;49m\u001b[43m:\u001b[49m\u001b[43m \u001b[49m\u001b[38;5;124;43m\"\u001b[39;49m\u001b[38;5;124;43mfeature\u001b[39;49m\u001b[38;5;124;43m\"\u001b[39;49m\u001b[43m,\u001b[49m\u001b[43m \u001b[49m\u001b[38;5;124;43m\"\u001b[39;49m\u001b[38;5;124;43mclip_outlier\u001b[39;49m\u001b[38;5;124;43m\"\u001b[39;49m\u001b[43m:\u001b[49m\u001b[43m \u001b[49m\u001b[38;5;124;43m\"\u001b[39;49m\u001b[38;5;124;43mtrue\u001b[39;49m\u001b[38;5;124;43m\"\u001b[39;49m\u001b[43m}\u001b[49m\u001b[43m}\u001b[49m\u001b[43m,\u001b[49m\n\u001b[1;32m     25\u001b[0m \u001b[43m                        \u001b[49m\u001b[43m{\u001b[49m\u001b[38;5;124;43m\"\u001b[39;49m\u001b[38;5;124;43mclass\u001b[39;49m\u001b[38;5;124;43m\"\u001b[39;49m\u001b[43m:\u001b[49m\u001b[43m \u001b[49m\u001b[38;5;124;43m\"\u001b[39;49m\u001b[38;5;124;43mFillna\u001b[39;49m\u001b[38;5;124;43m\"\u001b[39;49m\u001b[43m,\u001b[49m\u001b[43m \u001b[49m\u001b[38;5;124;43m\"\u001b[39;49m\u001b[38;5;124;43mkwargs\u001b[39;49m\u001b[38;5;124;43m\"\u001b[39;49m\u001b[43m:\u001b[49m\u001b[43m \u001b[49m\u001b[43m{\u001b[49m\u001b[38;5;124;43m\"\u001b[39;49m\u001b[38;5;124;43mfields_group\u001b[39;49m\u001b[38;5;124;43m\"\u001b[39;49m\u001b[43m:\u001b[49m\u001b[43m \u001b[49m\u001b[38;5;124;43m\"\u001b[39;49m\u001b[38;5;124;43mfeature\u001b[39;49m\u001b[38;5;124;43m\"\u001b[39;49m\u001b[43m}\u001b[49m\u001b[43m}\u001b[49m\u001b[43m,\u001b[49m\n\u001b[1;32m     26\u001b[0m \u001b[43m                    \u001b[49m\u001b[43m]\u001b[49m\u001b[43m,\u001b[49m\n\u001b[1;32m     27\u001b[0m \u001b[43m            \u001b[49m\u001b[43mlearn_processors\u001b[49m\u001b[38;5;241;43m=\u001b[39;49m\u001b[43m \u001b[49m\u001b[43m[\u001b[49m\n\u001b[1;32m     28\u001b[0m \u001b[43m                        \u001b[49m\u001b[38;5;124;43m\"\u001b[39;49m\u001b[38;5;124;43mDropnaLabel\u001b[39;49m\u001b[38;5;124;43m\"\u001b[39;49m\u001b[43m,\u001b[49m\n\u001b[1;32m     29\u001b[0m \u001b[43m                        \u001b[49m\u001b[43m{\u001b[49m\u001b[38;5;124;43m\"\u001b[39;49m\u001b[38;5;124;43mclass\u001b[39;49m\u001b[38;5;124;43m\"\u001b[39;49m\u001b[43m:\u001b[49m\u001b[43m \u001b[49m\u001b[38;5;124;43m\"\u001b[39;49m\u001b[38;5;124;43mCSRankNorm\u001b[39;49m\u001b[38;5;124;43m\"\u001b[39;49m\u001b[43m,\u001b[49m\u001b[43m \u001b[49m\u001b[38;5;124;43m\"\u001b[39;49m\u001b[38;5;124;43mkwargs\u001b[39;49m\u001b[38;5;124;43m\"\u001b[39;49m\u001b[43m:\u001b[49m\u001b[43m \u001b[49m\u001b[43m{\u001b[49m\u001b[38;5;124;43m\"\u001b[39;49m\u001b[38;5;124;43mfields_group\u001b[39;49m\u001b[38;5;124;43m\"\u001b[39;49m\u001b[43m:\u001b[49m\u001b[43m \u001b[49m\u001b[38;5;124;43m\"\u001b[39;49m\u001b[38;5;124;43mlabel\u001b[39;49m\u001b[38;5;124;43m\"\u001b[39;49m\u001b[43m}\u001b[49m\u001b[43m}\u001b[49m\u001b[43m,\u001b[49m\u001b[43m  \u001b[49m\u001b[38;5;66;43;03m# CSRankNorm\u001b[39;49;00m\n\u001b[1;32m     30\u001b[0m \u001b[43m                    \u001b[49m\u001b[43m]\u001b[49m\u001b[43m,\u001b[49m\n\u001b[1;32m     31\u001b[0m \u001b[43m             \u001b[49m\u001b[43m)\u001b[49m\n\u001b[1;32m     32\u001b[0m ds \u001b[38;5;241m=\u001b[39m TSDatasetH(handler\u001b[38;5;241m=\u001b[39mdh,\n\u001b[1;32m     33\u001b[0m                 step_len\u001b[38;5;241m=\u001b[39m\u001b[38;5;241m20\u001b[39m, \u001b[38;5;66;03m# 时间步数\u001b[39;00m\n\u001b[1;32m     34\u001b[0m                 segments\u001b[38;5;241m=\u001b[39m{\u001b[38;5;124m\"\u001b[39m\u001b[38;5;124mtrain\u001b[39m\u001b[38;5;124m\"\u001b[39m: train_period, \n\u001b[1;32m     35\u001b[0m                           \u001b[38;5;124m\"\u001b[39m\u001b[38;5;124mvalid\u001b[39m\u001b[38;5;124m\"\u001b[39m: valid_period, \n\u001b[1;32m     36\u001b[0m                           \u001b[38;5;124m\"\u001b[39m\u001b[38;5;124mtest\u001b[39m\u001b[38;5;124m\"\u001b[39m: test_period})\n",
      "File \u001b[0;32m~/proj/qlib-main/qlib/contrib/data/handler.py:129\u001b[0m, in \u001b[0;36mAlpha158.__init__\u001b[0;34m(self, instruments, start_time, end_time, freq, infer_processors, learn_processors, fit_start_time, fit_end_time, process_type, filter_pipe, inst_processors, **kwargs)\u001b[0m\n\u001b[1;32m    115\u001b[0m learn_processors \u001b[38;5;241m=\u001b[39m check_transform_proc(learn_processors, fit_start_time, fit_end_time)\n\u001b[1;32m    117\u001b[0m data_loader \u001b[38;5;241m=\u001b[39m {\n\u001b[1;32m    118\u001b[0m     \u001b[38;5;124m\"\u001b[39m\u001b[38;5;124mclass\u001b[39m\u001b[38;5;124m\"\u001b[39m: \u001b[38;5;124m\"\u001b[39m\u001b[38;5;124mQlibDataLoader\u001b[39m\u001b[38;5;124m\"\u001b[39m,\n\u001b[1;32m    119\u001b[0m     \u001b[38;5;124m\"\u001b[39m\u001b[38;5;124mkwargs\u001b[39m\u001b[38;5;124m\"\u001b[39m: {\n\u001b[0;32m   (...)\u001b[0m\n\u001b[1;32m    127\u001b[0m     },\n\u001b[1;32m    128\u001b[0m }\n\u001b[0;32m--> 129\u001b[0m \u001b[38;5;28;43msuper\u001b[39;49m\u001b[43m(\u001b[49m\u001b[43m)\u001b[49m\u001b[38;5;241;43m.\u001b[39;49m\u001b[38;5;21;43m__init__\u001b[39;49m\u001b[43m(\u001b[49m\n\u001b[1;32m    130\u001b[0m \u001b[43m    \u001b[49m\u001b[43minstruments\u001b[49m\u001b[38;5;241;43m=\u001b[39;49m\u001b[43minstruments\u001b[49m\u001b[43m,\u001b[49m\n\u001b[1;32m    131\u001b[0m \u001b[43m    \u001b[49m\u001b[43mstart_time\u001b[49m\u001b[38;5;241;43m=\u001b[39;49m\u001b[43mstart_time\u001b[49m\u001b[43m,\u001b[49m\n\u001b[1;32m    132\u001b[0m \u001b[43m    \u001b[49m\u001b[43mend_time\u001b[49m\u001b[38;5;241;43m=\u001b[39;49m\u001b[43mend_time\u001b[49m\u001b[43m,\u001b[49m\n\u001b[1;32m    133\u001b[0m \u001b[43m    \u001b[49m\u001b[43mdata_loader\u001b[49m\u001b[38;5;241;43m=\u001b[39;49m\u001b[43mdata_loader\u001b[49m\u001b[43m,\u001b[49m\n\u001b[1;32m    134\u001b[0m \u001b[43m    \u001b[49m\u001b[43minfer_processors\u001b[49m\u001b[38;5;241;43m=\u001b[39;49m\u001b[43minfer_processors\u001b[49m\u001b[43m,\u001b[49m\n\u001b[1;32m    135\u001b[0m \u001b[43m    \u001b[49m\u001b[43mlearn_processors\u001b[49m\u001b[38;5;241;43m=\u001b[39;49m\u001b[43mlearn_processors\u001b[49m\u001b[43m,\u001b[49m\n\u001b[1;32m    136\u001b[0m \u001b[43m    \u001b[49m\u001b[43mprocess_type\u001b[49m\u001b[38;5;241;43m=\u001b[39;49m\u001b[43mprocess_type\u001b[49m\u001b[43m,\u001b[49m\n\u001b[1;32m    137\u001b[0m \u001b[43m    \u001b[49m\u001b[38;5;241;43m*\u001b[39;49m\u001b[38;5;241;43m*\u001b[39;49m\u001b[43mkwargs\u001b[49m\n\u001b[1;32m    138\u001b[0m \u001b[43m\u001b[49m\u001b[43m)\u001b[49m\n",
      "File \u001b[0;32m~/proj/qlib-main/qlib/data/dataset/handler.py:468\u001b[0m, in \u001b[0;36mDataHandlerLP.__init__\u001b[0;34m(self, instruments, start_time, end_time, data_loader, infer_processors, learn_processors, shared_processors, process_type, drop_raw, **kwargs)\u001b[0m\n\u001b[1;32m    466\u001b[0m \u001b[38;5;28mself\u001b[39m\u001b[38;5;241m.\u001b[39mprocess_type \u001b[38;5;241m=\u001b[39m process_type\n\u001b[1;32m    467\u001b[0m \u001b[38;5;28mself\u001b[39m\u001b[38;5;241m.\u001b[39mdrop_raw \u001b[38;5;241m=\u001b[39m drop_raw\n\u001b[0;32m--> 468\u001b[0m \u001b[38;5;28;43msuper\u001b[39;49m\u001b[43m(\u001b[49m\u001b[43m)\u001b[49m\u001b[38;5;241;43m.\u001b[39;49m\u001b[38;5;21;43m__init__\u001b[39;49m\u001b[43m(\u001b[49m\u001b[43minstruments\u001b[49m\u001b[43m,\u001b[49m\u001b[43m \u001b[49m\u001b[43mstart_time\u001b[49m\u001b[43m,\u001b[49m\u001b[43m \u001b[49m\u001b[43mend_time\u001b[49m\u001b[43m,\u001b[49m\u001b[43m \u001b[49m\u001b[43mdata_loader\u001b[49m\u001b[43m,\u001b[49m\u001b[43m \u001b[49m\u001b[38;5;241;43m*\u001b[39;49m\u001b[38;5;241;43m*\u001b[39;49m\u001b[43mkwargs\u001b[49m\u001b[43m)\u001b[49m\n",
      "File \u001b[0;32m~/proj/qlib-main/qlib/data/dataset/handler.py:100\u001b[0m, in \u001b[0;36mDataHandler.__init__\u001b[0;34m(self, instruments, start_time, end_time, data_loader, init_data, fetch_orig)\u001b[0m\n\u001b[1;32m     98\u001b[0m \u001b[38;5;28;01mif\u001b[39;00m init_data:\n\u001b[1;32m     99\u001b[0m     \u001b[38;5;28;01mwith\u001b[39;00m TimeInspector\u001b[38;5;241m.\u001b[39mlogt(\u001b[38;5;124m\"\u001b[39m\u001b[38;5;124mInit data\u001b[39m\u001b[38;5;124m\"\u001b[39m):\n\u001b[0;32m--> 100\u001b[0m         \u001b[38;5;28;43mself\u001b[39;49m\u001b[38;5;241;43m.\u001b[39;49m\u001b[43msetup_data\u001b[49m\u001b[43m(\u001b[49m\u001b[43m)\u001b[49m\n\u001b[1;32m    101\u001b[0m \u001b[38;5;28msuper\u001b[39m()\u001b[38;5;241m.\u001b[39m\u001b[38;5;21m__init__\u001b[39m()\n",
      "File \u001b[0;32m~/proj/qlib-main/qlib/data/dataset/handler.py:610\u001b[0m, in \u001b[0;36mDataHandlerLP.setup_data\u001b[0;34m(self, init_type, **kwargs)\u001b[0m\n\u001b[1;32m    594\u001b[0m \u001b[38;5;250m\u001b[39m\u001b[38;5;124;03m\"\"\"\u001b[39;00m\n\u001b[1;32m    595\u001b[0m \u001b[38;5;124;03mSet up the data in case of running initialization for multiple time\u001b[39;00m\n\u001b[1;32m    596\u001b[0m \n\u001b[0;32m   (...)\u001b[0m\n\u001b[1;32m    607\u001b[0m \u001b[38;5;124;03m        when we call `init` next time\u001b[39;00m\n\u001b[1;32m    608\u001b[0m \u001b[38;5;124;03m\"\"\"\u001b[39;00m\n\u001b[1;32m    609\u001b[0m \u001b[38;5;66;03m# init raw data\u001b[39;00m\n\u001b[0;32m--> 610\u001b[0m \u001b[38;5;28;43msuper\u001b[39;49m\u001b[43m(\u001b[49m\u001b[43m)\u001b[49m\u001b[38;5;241;43m.\u001b[39;49m\u001b[43msetup_data\u001b[49m\u001b[43m(\u001b[49m\u001b[38;5;241;43m*\u001b[39;49m\u001b[38;5;241;43m*\u001b[39;49m\u001b[43mkwargs\u001b[49m\u001b[43m)\u001b[49m\n\u001b[1;32m    612\u001b[0m \u001b[38;5;28;01mwith\u001b[39;00m TimeInspector\u001b[38;5;241m.\u001b[39mlogt(\u001b[38;5;124m\"\u001b[39m\u001b[38;5;124mfit & process data\u001b[39m\u001b[38;5;124m\"\u001b[39m):\n\u001b[1;32m    613\u001b[0m     \u001b[38;5;28;01mif\u001b[39;00m init_type \u001b[38;5;241m==\u001b[39m DataHandlerLP\u001b[38;5;241m.\u001b[39mIT_FIT_IND:\n",
      "File \u001b[0;32m~/proj/qlib-main/qlib/data/dataset/handler.py:144\u001b[0m, in \u001b[0;36mDataHandler.setup_data\u001b[0;34m(self, enable_cache)\u001b[0m\n\u001b[1;32m    140\u001b[0m \u001b[38;5;66;03m# Setup data.\u001b[39;00m\n\u001b[1;32m    141\u001b[0m \u001b[38;5;66;03m# _data may be with multiple column index level. The outer level indicates the feature set name\u001b[39;00m\n\u001b[1;32m    142\u001b[0m \u001b[38;5;28;01mwith\u001b[39;00m TimeInspector\u001b[38;5;241m.\u001b[39mlogt(\u001b[38;5;124m\"\u001b[39m\u001b[38;5;124mLoading data\u001b[39m\u001b[38;5;124m\"\u001b[39m):\n\u001b[1;32m    143\u001b[0m     \u001b[38;5;66;03m# make sure the fetch method is based on an index-sorted pd.DataFrame\u001b[39;00m\n\u001b[0;32m--> 144\u001b[0m     \u001b[38;5;28mself\u001b[39m\u001b[38;5;241m.\u001b[39m_data \u001b[38;5;241m=\u001b[39m lazy_sort_index(\u001b[38;5;28;43mself\u001b[39;49m\u001b[38;5;241;43m.\u001b[39;49m\u001b[43mdata_loader\u001b[49m\u001b[38;5;241;43m.\u001b[39;49m\u001b[43mload\u001b[49m\u001b[43m(\u001b[49m\u001b[38;5;28;43mself\u001b[39;49m\u001b[38;5;241;43m.\u001b[39;49m\u001b[43minstruments\u001b[49m\u001b[43m,\u001b[49m\u001b[43m \u001b[49m\u001b[38;5;28;43mself\u001b[39;49m\u001b[38;5;241;43m.\u001b[39;49m\u001b[43mstart_time\u001b[49m\u001b[43m,\u001b[49m\u001b[43m \u001b[49m\u001b[38;5;28;43mself\u001b[39;49m\u001b[38;5;241;43m.\u001b[39;49m\u001b[43mend_time\u001b[49m\u001b[43m)\u001b[49m)\n",
      "File \u001b[0;32m~/proj/qlib-main/qlib/data/dataset/loader.py:141\u001b[0m, in \u001b[0;36mDLWParser.load\u001b[0;34m(self, instruments, start_time, end_time)\u001b[0m\n\u001b[1;32m    138\u001b[0m \u001b[38;5;28;01mdef\u001b[39;00m \u001b[38;5;21mload\u001b[39m(\u001b[38;5;28mself\u001b[39m, instruments\u001b[38;5;241m=\u001b[39m\u001b[38;5;28;01mNone\u001b[39;00m, start_time\u001b[38;5;241m=\u001b[39m\u001b[38;5;28;01mNone\u001b[39;00m, end_time\u001b[38;5;241m=\u001b[39m\u001b[38;5;28;01mNone\u001b[39;00m) \u001b[38;5;241m-\u001b[39m\u001b[38;5;241m>\u001b[39m pd\u001b[38;5;241m.\u001b[39mDataFrame:\n\u001b[1;32m    139\u001b[0m     \u001b[38;5;28;01mif\u001b[39;00m \u001b[38;5;28mself\u001b[39m\u001b[38;5;241m.\u001b[39mis_group:\n\u001b[1;32m    140\u001b[0m         df \u001b[38;5;241m=\u001b[39m pd\u001b[38;5;241m.\u001b[39mconcat(\n\u001b[0;32m--> 141\u001b[0m             \u001b[43m{\u001b[49m\n\u001b[1;32m    142\u001b[0m \u001b[43m                \u001b[49m\u001b[43mgrp\u001b[49m\u001b[43m:\u001b[49m\u001b[43m \u001b[49m\u001b[38;5;28;43mself\u001b[39;49m\u001b[38;5;241;43m.\u001b[39;49m\u001b[43mload_group_df\u001b[49m\u001b[43m(\u001b[49m\u001b[43minstruments\u001b[49m\u001b[43m,\u001b[49m\u001b[43m \u001b[49m\u001b[43mexprs\u001b[49m\u001b[43m,\u001b[49m\u001b[43m \u001b[49m\u001b[43mnames\u001b[49m\u001b[43m,\u001b[49m\u001b[43m \u001b[49m\u001b[43mstart_time\u001b[49m\u001b[43m,\u001b[49m\u001b[43m \u001b[49m\u001b[43mend_time\u001b[49m\u001b[43m,\u001b[49m\u001b[43m \u001b[49m\u001b[43mgrp\u001b[49m\u001b[43m)\u001b[49m\n\u001b[1;32m    143\u001b[0m \u001b[43m                \u001b[49m\u001b[38;5;28;43;01mfor\u001b[39;49;00m\u001b[43m \u001b[49m\u001b[43mgrp\u001b[49m\u001b[43m,\u001b[49m\u001b[43m \u001b[49m\u001b[43m(\u001b[49m\u001b[43mexprs\u001b[49m\u001b[43m,\u001b[49m\u001b[43m \u001b[49m\u001b[43mnames\u001b[49m\u001b[43m)\u001b[49m\u001b[43m \u001b[49m\u001b[38;5;129;43;01min\u001b[39;49;00m\u001b[43m \u001b[49m\u001b[38;5;28;43mself\u001b[39;49m\u001b[38;5;241;43m.\u001b[39;49m\u001b[43mfields\u001b[49m\u001b[38;5;241;43m.\u001b[39;49m\u001b[43mitems\u001b[49m\u001b[43m(\u001b[49m\u001b[43m)\u001b[49m\n\u001b[1;32m    144\u001b[0m \u001b[43m            \u001b[49m\u001b[43m}\u001b[49m,\n\u001b[1;32m    145\u001b[0m             axis\u001b[38;5;241m=\u001b[39m\u001b[38;5;241m1\u001b[39m,\n\u001b[1;32m    146\u001b[0m         )\n\u001b[1;32m    147\u001b[0m     \u001b[38;5;28;01melse\u001b[39;00m:\n\u001b[1;32m    148\u001b[0m         exprs, names \u001b[38;5;241m=\u001b[39m \u001b[38;5;28mself\u001b[39m\u001b[38;5;241m.\u001b[39mfields\n",
      "File \u001b[0;32m~/proj/qlib-main/qlib/data/dataset/loader.py:142\u001b[0m, in \u001b[0;36m<dictcomp>\u001b[0;34m(.0)\u001b[0m\n\u001b[1;32m    138\u001b[0m \u001b[38;5;28;01mdef\u001b[39;00m \u001b[38;5;21mload\u001b[39m(\u001b[38;5;28mself\u001b[39m, instruments\u001b[38;5;241m=\u001b[39m\u001b[38;5;28;01mNone\u001b[39;00m, start_time\u001b[38;5;241m=\u001b[39m\u001b[38;5;28;01mNone\u001b[39;00m, end_time\u001b[38;5;241m=\u001b[39m\u001b[38;5;28;01mNone\u001b[39;00m) \u001b[38;5;241m-\u001b[39m\u001b[38;5;241m>\u001b[39m pd\u001b[38;5;241m.\u001b[39mDataFrame:\n\u001b[1;32m    139\u001b[0m     \u001b[38;5;28;01mif\u001b[39;00m \u001b[38;5;28mself\u001b[39m\u001b[38;5;241m.\u001b[39mis_group:\n\u001b[1;32m    140\u001b[0m         df \u001b[38;5;241m=\u001b[39m pd\u001b[38;5;241m.\u001b[39mconcat(\n\u001b[1;32m    141\u001b[0m             {\n\u001b[0;32m--> 142\u001b[0m                 grp: \u001b[38;5;28;43mself\u001b[39;49m\u001b[38;5;241;43m.\u001b[39;49m\u001b[43mload_group_df\u001b[49m\u001b[43m(\u001b[49m\u001b[43minstruments\u001b[49m\u001b[43m,\u001b[49m\u001b[43m \u001b[49m\u001b[43mexprs\u001b[49m\u001b[43m,\u001b[49m\u001b[43m \u001b[49m\u001b[43mnames\u001b[49m\u001b[43m,\u001b[49m\u001b[43m \u001b[49m\u001b[43mstart_time\u001b[49m\u001b[43m,\u001b[49m\u001b[43m \u001b[49m\u001b[43mend_time\u001b[49m\u001b[43m,\u001b[49m\u001b[43m \u001b[49m\u001b[43mgrp\u001b[49m\u001b[43m)\u001b[49m\n\u001b[1;32m    143\u001b[0m                 \u001b[38;5;28;01mfor\u001b[39;00m grp, (exprs, names) \u001b[38;5;129;01min\u001b[39;00m \u001b[38;5;28mself\u001b[39m\u001b[38;5;241m.\u001b[39mfields\u001b[38;5;241m.\u001b[39mitems()\n\u001b[1;32m    144\u001b[0m             },\n\u001b[1;32m    145\u001b[0m             axis\u001b[38;5;241m=\u001b[39m\u001b[38;5;241m1\u001b[39m,\n\u001b[1;32m    146\u001b[0m         )\n\u001b[1;32m    147\u001b[0m     \u001b[38;5;28;01melse\u001b[39;00m:\n\u001b[1;32m    148\u001b[0m         exprs, names \u001b[38;5;241m=\u001b[39m \u001b[38;5;28mself\u001b[39m\u001b[38;5;241m.\u001b[39mfields\n",
      "File \u001b[0;32m~/proj/qlib-main/qlib/data/dataset/loader.py:223\u001b[0m, in \u001b[0;36mQlibDataLoader.load_group_df\u001b[0;34m(self, instruments, exprs, names, start_time, end_time, gp_name)\u001b[0m\n\u001b[1;32m    219\u001b[0m freq \u001b[38;5;241m=\u001b[39m \u001b[38;5;28mself\u001b[39m\u001b[38;5;241m.\u001b[39mfreq[gp_name] \u001b[38;5;28;01mif\u001b[39;00m \u001b[38;5;28misinstance\u001b[39m(\u001b[38;5;28mself\u001b[39m\u001b[38;5;241m.\u001b[39mfreq, \u001b[38;5;28mdict\u001b[39m) \u001b[38;5;28;01melse\u001b[39;00m \u001b[38;5;28mself\u001b[39m\u001b[38;5;241m.\u001b[39mfreq\n\u001b[1;32m    220\u001b[0m inst_processors \u001b[38;5;241m=\u001b[39m (\n\u001b[1;32m    221\u001b[0m     \u001b[38;5;28mself\u001b[39m\u001b[38;5;241m.\u001b[39minst_processors \u001b[38;5;28;01mif\u001b[39;00m \u001b[38;5;28misinstance\u001b[39m(\u001b[38;5;28mself\u001b[39m\u001b[38;5;241m.\u001b[39minst_processors, \u001b[38;5;28mlist\u001b[39m) \u001b[38;5;28;01melse\u001b[39;00m \u001b[38;5;28mself\u001b[39m\u001b[38;5;241m.\u001b[39minst_processors\u001b[38;5;241m.\u001b[39mget(gp_name, [])\n\u001b[1;32m    222\u001b[0m )\n\u001b[0;32m--> 223\u001b[0m df \u001b[38;5;241m=\u001b[39m \u001b[43mD\u001b[49m\u001b[38;5;241;43m.\u001b[39;49m\u001b[43mfeatures\u001b[49m\u001b[43m(\u001b[49m\u001b[43minstruments\u001b[49m\u001b[43m,\u001b[49m\u001b[43m \u001b[49m\u001b[43mexprs\u001b[49m\u001b[43m,\u001b[49m\u001b[43m \u001b[49m\u001b[43mstart_time\u001b[49m\u001b[43m,\u001b[49m\u001b[43m \u001b[49m\u001b[43mend_time\u001b[49m\u001b[43m,\u001b[49m\u001b[43m \u001b[49m\u001b[43mfreq\u001b[49m\u001b[38;5;241;43m=\u001b[39;49m\u001b[43mfreq\u001b[49m\u001b[43m,\u001b[49m\u001b[43m \u001b[49m\u001b[43minst_processors\u001b[49m\u001b[38;5;241;43m=\u001b[39;49m\u001b[43minst_processors\u001b[49m\u001b[43m)\u001b[49m\n\u001b[1;32m    224\u001b[0m df\u001b[38;5;241m.\u001b[39mcolumns \u001b[38;5;241m=\u001b[39m names\n\u001b[1;32m    225\u001b[0m \u001b[38;5;28;01mif\u001b[39;00m \u001b[38;5;28mself\u001b[39m\u001b[38;5;241m.\u001b[39mswap_level:\n",
      "File \u001b[0;32m~/proj/qlib-main/qlib/data/data.py:1190\u001b[0m, in \u001b[0;36mBaseProvider.features\u001b[0;34m(self, instruments, fields, start_time, end_time, freq, disk_cache, inst_processors)\u001b[0m\n\u001b[1;32m   1186\u001b[0m     \u001b[38;5;28;01mreturn\u001b[39;00m DatasetD\u001b[38;5;241m.\u001b[39mdataset(\n\u001b[1;32m   1187\u001b[0m         instruments, fields, start_time, end_time, freq, disk_cache, inst_processors\u001b[38;5;241m=\u001b[39minst_processors\n\u001b[1;32m   1188\u001b[0m     )\n\u001b[1;32m   1189\u001b[0m \u001b[38;5;28;01mexcept\u001b[39;00m \u001b[38;5;167;01mTypeError\u001b[39;00m:\n\u001b[0;32m-> 1190\u001b[0m     \u001b[38;5;28;01mreturn\u001b[39;00m \u001b[43mDatasetD\u001b[49m\u001b[38;5;241;43m.\u001b[39;49m\u001b[43mdataset\u001b[49m\u001b[43m(\u001b[49m\u001b[43minstruments\u001b[49m\u001b[43m,\u001b[49m\u001b[43m \u001b[49m\u001b[43mfields\u001b[49m\u001b[43m,\u001b[49m\u001b[43m \u001b[49m\u001b[43mstart_time\u001b[49m\u001b[43m,\u001b[49m\u001b[43m \u001b[49m\u001b[43mend_time\u001b[49m\u001b[43m,\u001b[49m\u001b[43m \u001b[49m\u001b[43mfreq\u001b[49m\u001b[43m,\u001b[49m\u001b[43m \u001b[49m\u001b[43minst_processors\u001b[49m\u001b[38;5;241;43m=\u001b[39;49m\u001b[43minst_processors\u001b[49m\u001b[43m)\u001b[49m\n",
      "File \u001b[0;32m~/proj/qlib-main/qlib/data/data.py:923\u001b[0m, in \u001b[0;36mLocalDatasetProvider.dataset\u001b[0;34m(self, instruments, fields, start_time, end_time, freq, inst_processors)\u001b[0m\n\u001b[1;32m    921\u001b[0m     start_time \u001b[38;5;241m=\u001b[39m cal[\u001b[38;5;241m0\u001b[39m]\n\u001b[1;32m    922\u001b[0m     end_time \u001b[38;5;241m=\u001b[39m cal[\u001b[38;5;241m-\u001b[39m\u001b[38;5;241m1\u001b[39m]\n\u001b[0;32m--> 923\u001b[0m data \u001b[38;5;241m=\u001b[39m \u001b[38;5;28;43mself\u001b[39;49m\u001b[38;5;241;43m.\u001b[39;49m\u001b[43mdataset_processor\u001b[49m\u001b[43m(\u001b[49m\n\u001b[1;32m    924\u001b[0m \u001b[43m    \u001b[49m\u001b[43minstruments_d\u001b[49m\u001b[43m,\u001b[49m\u001b[43m \u001b[49m\u001b[43mcolumn_names\u001b[49m\u001b[43m,\u001b[49m\u001b[43m \u001b[49m\u001b[43mstart_time\u001b[49m\u001b[43m,\u001b[49m\u001b[43m \u001b[49m\u001b[43mend_time\u001b[49m\u001b[43m,\u001b[49m\u001b[43m \u001b[49m\u001b[43mfreq\u001b[49m\u001b[43m,\u001b[49m\u001b[43m \u001b[49m\u001b[43minst_processors\u001b[49m\u001b[38;5;241;43m=\u001b[39;49m\u001b[43minst_processors\u001b[49m\n\u001b[1;32m    925\u001b[0m \u001b[43m\u001b[49m\u001b[43m)\u001b[49m\n\u001b[1;32m    927\u001b[0m \u001b[38;5;28;01mreturn\u001b[39;00m data\n",
      "File \u001b[0;32m~/proj/qlib-main/qlib/data/data.py:577\u001b[0m, in \u001b[0;36mDatasetProvider.dataset_processor\u001b[0;34m(instruments_d, column_names, start_time, end_time, freq, inst_processors)\u001b[0m\n\u001b[1;32m    567\u001b[0m     inst_l\u001b[38;5;241m.\u001b[39mappend(inst)\n\u001b[1;32m    568\u001b[0m     task_l\u001b[38;5;241m.\u001b[39mappend(\n\u001b[1;32m    569\u001b[0m         delayed(DatasetProvider\u001b[38;5;241m.\u001b[39minst_calculator)(\n\u001b[1;32m    570\u001b[0m             inst, start_time, end_time, freq, normalize_column_names, spans, C, inst_processors\n\u001b[1;32m    571\u001b[0m         )\n\u001b[1;32m    572\u001b[0m     )\n\u001b[1;32m    574\u001b[0m data \u001b[38;5;241m=\u001b[39m \u001b[38;5;28mdict\u001b[39m(\n\u001b[1;32m    575\u001b[0m     \u001b[38;5;28mzip\u001b[39m(\n\u001b[1;32m    576\u001b[0m         inst_l,\n\u001b[0;32m--> 577\u001b[0m         \u001b[43mParallelExt\u001b[49m\u001b[43m(\u001b[49m\u001b[43mn_jobs\u001b[49m\u001b[38;5;241;43m=\u001b[39;49m\u001b[43mworkers\u001b[49m\u001b[43m,\u001b[49m\u001b[43m \u001b[49m\u001b[43mbackend\u001b[49m\u001b[38;5;241;43m=\u001b[39;49m\u001b[43mC\u001b[49m\u001b[38;5;241;43m.\u001b[39;49m\u001b[43mjoblib_backend\u001b[49m\u001b[43m,\u001b[49m\u001b[43m \u001b[49m\u001b[43mmaxtasksperchild\u001b[49m\u001b[38;5;241;43m=\u001b[39;49m\u001b[43mC\u001b[49m\u001b[38;5;241;43m.\u001b[39;49m\u001b[43mmaxtasksperchild\u001b[49m\u001b[43m)\u001b[49m\u001b[43m(\u001b[49m\u001b[43mtask_l\u001b[49m\u001b[43m)\u001b[49m,\n\u001b[1;32m    578\u001b[0m     )\n\u001b[1;32m    579\u001b[0m )\n\u001b[1;32m    581\u001b[0m new_data \u001b[38;5;241m=\u001b[39m \u001b[38;5;28mdict\u001b[39m()\n\u001b[1;32m    582\u001b[0m \u001b[38;5;28;01mfor\u001b[39;00m inst \u001b[38;5;129;01min\u001b[39;00m \u001b[38;5;28msorted\u001b[39m(data\u001b[38;5;241m.\u001b[39mkeys()):\n",
      "File \u001b[0;32m~/proj/qlib-main/venv/lib/python3.11/site-packages/joblib/parallel.py:2007\u001b[0m, in \u001b[0;36mParallel.__call__\u001b[0;34m(self, iterable)\u001b[0m\n\u001b[1;32m   2001\u001b[0m \u001b[38;5;66;03m# The first item from the output is blank, but it makes the interpreter\u001b[39;00m\n\u001b[1;32m   2002\u001b[0m \u001b[38;5;66;03m# progress until it enters the Try/Except block of the generator and\u001b[39;00m\n\u001b[1;32m   2003\u001b[0m \u001b[38;5;66;03m# reaches the first `yield` statement. This starts the asynchronous\u001b[39;00m\n\u001b[1;32m   2004\u001b[0m \u001b[38;5;66;03m# dispatch of the tasks to the workers.\u001b[39;00m\n\u001b[1;32m   2005\u001b[0m \u001b[38;5;28mnext\u001b[39m(output)\n\u001b[0;32m-> 2007\u001b[0m \u001b[38;5;28;01mreturn\u001b[39;00m output \u001b[38;5;28;01mif\u001b[39;00m \u001b[38;5;28mself\u001b[39m\u001b[38;5;241m.\u001b[39mreturn_generator \u001b[38;5;28;01melse\u001b[39;00m \u001b[38;5;28;43mlist\u001b[39;49m\u001b[43m(\u001b[49m\u001b[43moutput\u001b[49m\u001b[43m)\u001b[49m\n",
      "File \u001b[0;32m~/proj/qlib-main/venv/lib/python3.11/site-packages/joblib/parallel.py:1650\u001b[0m, in \u001b[0;36mParallel._get_outputs\u001b[0;34m(self, iterator, pre_dispatch)\u001b[0m\n\u001b[1;32m   1647\u001b[0m     \u001b[38;5;28;01myield\u001b[39;00m\n\u001b[1;32m   1649\u001b[0m     \u001b[38;5;28;01mwith\u001b[39;00m \u001b[38;5;28mself\u001b[39m\u001b[38;5;241m.\u001b[39m_backend\u001b[38;5;241m.\u001b[39mretrieval_context():\n\u001b[0;32m-> 1650\u001b[0m         \u001b[38;5;28;01myield from\u001b[39;00m \u001b[38;5;28mself\u001b[39m\u001b[38;5;241m.\u001b[39m_retrieve()\n\u001b[1;32m   1652\u001b[0m \u001b[38;5;28;01mexcept\u001b[39;00m \u001b[38;5;167;01mGeneratorExit\u001b[39;00m:\n\u001b[1;32m   1653\u001b[0m     \u001b[38;5;66;03m# The generator has been garbage collected before being fully\u001b[39;00m\n\u001b[1;32m   1654\u001b[0m     \u001b[38;5;66;03m# consumed. This aborts the remaining tasks if possible and warn\u001b[39;00m\n\u001b[1;32m   1655\u001b[0m     \u001b[38;5;66;03m# the user if necessary.\u001b[39;00m\n\u001b[1;32m   1656\u001b[0m     \u001b[38;5;28mself\u001b[39m\u001b[38;5;241m.\u001b[39m_exception \u001b[38;5;241m=\u001b[39m \u001b[38;5;28;01mTrue\u001b[39;00m\n",
      "File \u001b[0;32m~/proj/qlib-main/venv/lib/python3.11/site-packages/joblib/parallel.py:1762\u001b[0m, in \u001b[0;36mParallel._retrieve\u001b[0;34m(self)\u001b[0m\n\u001b[1;32m   1757\u001b[0m \u001b[38;5;66;03m# If the next job is not ready for retrieval yet, we just wait for\u001b[39;00m\n\u001b[1;32m   1758\u001b[0m \u001b[38;5;66;03m# async callbacks to progress.\u001b[39;00m\n\u001b[1;32m   1759\u001b[0m \u001b[38;5;28;01mif\u001b[39;00m ((\u001b[38;5;28mlen\u001b[39m(\u001b[38;5;28mself\u001b[39m\u001b[38;5;241m.\u001b[39m_jobs) \u001b[38;5;241m==\u001b[39m \u001b[38;5;241m0\u001b[39m) \u001b[38;5;129;01mor\u001b[39;00m\n\u001b[1;32m   1760\u001b[0m     (\u001b[38;5;28mself\u001b[39m\u001b[38;5;241m.\u001b[39m_jobs[\u001b[38;5;241m0\u001b[39m]\u001b[38;5;241m.\u001b[39mget_status(\n\u001b[1;32m   1761\u001b[0m         timeout\u001b[38;5;241m=\u001b[39m\u001b[38;5;28mself\u001b[39m\u001b[38;5;241m.\u001b[39mtimeout) \u001b[38;5;241m==\u001b[39m TASK_PENDING)):\n\u001b[0;32m-> 1762\u001b[0m     time\u001b[38;5;241m.\u001b[39msleep(\u001b[38;5;241m0.01\u001b[39m)\n\u001b[1;32m   1763\u001b[0m     \u001b[38;5;28;01mcontinue\u001b[39;00m\n\u001b[1;32m   1765\u001b[0m \u001b[38;5;66;03m# We need to be careful: the job list can be filling up as\u001b[39;00m\n\u001b[1;32m   1766\u001b[0m \u001b[38;5;66;03m# we empty it and Python list are not thread-safe by\u001b[39;00m\n\u001b[1;32m   1767\u001b[0m \u001b[38;5;66;03m# default hence the use of the lock\u001b[39;00m\n",
      "\u001b[0;31mKeyboardInterrupt\u001b[0m: "
     ]
    }
   ],
   "source": [
    "import qlib\n",
    "from qlib.constant import REG_CN\n",
    "data_uri = '~/.qlib/qlib_data/cn_data/'\n",
    "qlib.init(provider_uri=data_uri, region=REG_CN)\n",
    "from qlib.data.dataset.handler import DataHandlerLP\n",
    "\n",
    "# 使用\"配置\"进行实例化\n",
    "from qlib.utils import init_instance_by_config\n",
    "from qlib.contrib.data.handler import Alpha158\n",
    "from qlib.data.dataset import TSDatasetH\n",
    "from qlib.contrib.model.pytorch_alstm_ts import ALSTM\n",
    "\n",
    "# 配置数据\n",
    "train_period = (\"2017-01-01\", \"2018-12-31\")\n",
    "valid_period = (\"2019-01-01\", \"2019-12-31\")\n",
    "test_period = (\"2020-01-01\", \"2020-08-01\")\n",
    "\n",
    "dh = Alpha158(instruments='csi300', \n",
    "              start_time=train_period[0], \n",
    "              end_time=test_period[1],\n",
    "             fit_start_time = \"2018-01-01\",\n",
    "             fit_end_time = \"2019-12-31\",\n",
    "              infer_processors= [\n",
    "                        {\"class\": \"RobustZScoreNorm\", \"kwargs\": {\"fields_group\": \"feature\", \"clip_outlier\": \"true\"}},\n",
    "                        {\"class\": \"Fillna\", \"kwargs\": {\"fields_group\": \"feature\"}},\n",
    "                    ],\n",
    "            learn_processors= [\n",
    "                        \"DropnaLabel\",\n",
    "                        {\"class\": \"CSRankNorm\", \"kwargs\": {\"fields_group\": \"label\"}},  # CSRankNorm\n",
    "                    ],\n",
    "             )\n",
    "ds = TSDatasetH(handler=dh,\n",
    "                step_len=20, # 时间步数\n",
    "                segments={\"train\": train_period, \n",
    "                          \"valid\": valid_period, \n",
    "                          \"test\": test_period})\n"
   ]
  },
  {
   "cell_type": "code",
   "execution_count": null,
   "metadata": {},
   "outputs": [
    {
     "data": {
      "text/plain": [
       "<qlib.data.dataset.TSDataSampler at 0x7ebbf653b610>"
      ]
     },
     "execution_count": 2,
     "metadata": {},
     "output_type": "execute_result"
    }
   ],
   "source": [
    "ds.prepare(\"train\")"
   ]
  },
  {
   "cell_type": "markdown",
   "metadata": {},
   "source": []
  },
  {
   "cell_type": "code",
   "execution_count": null,
   "metadata": {},
   "outputs": [],
   "source": [
    "import torch\n",
    "import torch.nn as nn\n",
    "import torch.optim as optim\n",
    "from torch.utils.data import DataLoader\n",
    "#%%\n",
    "from qlib.data.dataset.handler import DataHandlerLP\n",
    "dl_train = ds.prepare(\"train\", col_set=[\"feature\", \"label\"], data_key=DataHandlerLP.DK_L)"
   ]
  },
  {
   "cell_type": "code",
   "execution_count": null,
   "metadata": {},
   "outputs": [],
   "source": [
    "dl_train.config(fillna_type=\"ffill+bfill\")  # process nan brought by dataloader"
   ]
  },
  {
   "cell_type": "code",
   "execution_count": null,
   "metadata": {},
   "outputs": [],
   "source": [
    "train_loader = DataLoader(\n",
    "dl_train, batch_size=30, shuffle=True, num_workers=0, drop_last=True\n",
    ")"
   ]
  },
  {
   "cell_type": "code",
   "execution_count": null,
   "metadata": {},
   "outputs": [
    {
     "ename": "ValueError",
     "evalue": "too many values to unpack (expected 2)",
     "output_type": "error",
     "traceback": [
      "\u001b[0;31m---------------------------------------------------------------------------\u001b[0m",
      "\u001b[0;31mValueError\u001b[0m                                Traceback (most recent call last)",
      "Cell \u001b[0;32mIn[6], line 2\u001b[0m\n\u001b[1;32m      1\u001b[0m \u001b[38;5;28;01mfrom\u001b[39;00m \u001b[38;5;21;01mtransformerModule\u001b[39;00m \u001b[38;5;28;01mimport\u001b[39;00m train_transformer\n\u001b[0;32m----> 2\u001b[0m \u001b[43mtrain_transformer\u001b[49m\u001b[43m(\u001b[49m\u001b[43mtrain_loader\u001b[49m\u001b[43m)\u001b[49m\n",
      "File \u001b[0;32m~/proj/qlib-main/workspace/transformerModule.py:104\u001b[0m, in \u001b[0;36mtrain_transformer\u001b[0;34m(dataloader)\u001b[0m\n\u001b[1;32m    102\u001b[0m optimizer \u001b[38;5;241m=\u001b[39m torch\u001b[38;5;241m.\u001b[39moptim\u001b[38;5;241m.\u001b[39mAdam(model\u001b[38;5;241m.\u001b[39mparameters(), lr\u001b[38;5;241m=\u001b[39m\u001b[38;5;241m0.001\u001b[39m)\n\u001b[1;32m    103\u001b[0m losses \u001b[38;5;241m=\u001b[39m []\n\u001b[0;32m--> 104\u001b[0m \u001b[38;5;28;01mfor\u001b[39;00m batch_idx,data \u001b[38;5;129;01min\u001b[39;00m dataloader:\n\u001b[1;32m    105\u001b[0m     feature \u001b[38;5;241m=\u001b[39m data[:, :, \u001b[38;5;241m0\u001b[39m:\u001b[38;5;241m-\u001b[39m\u001b[38;5;241m1\u001b[39m]\n\u001b[1;32m    106\u001b[0m     label \u001b[38;5;241m=\u001b[39m data[:, \u001b[38;5;241m-\u001b[39m\u001b[38;5;241m1\u001b[39m, \u001b[38;5;241m-\u001b[39m\u001b[38;5;241m1\u001b[39m]\n",
      "\u001b[0;31mValueError\u001b[0m: too many values to unpack (expected 2)"
     ]
    }
   ],
   "source": [
    "from transformerModule import train_transformer\n",
    "train_transformer(train_loader)"
   ]
  },
  {
   "cell_type": "code",
   "execution_count": null,
   "metadata": {},
   "outputs": [],
   "source": []
  },
  {
   "cell_type": "code",
   "execution_count": null,
   "metadata": {},
   "outputs": [],
   "source": []
  },
  {
   "cell_type": "code",
   "execution_count": null,
   "metadata": {},
   "outputs": [],
   "source": [
    "for batch_idx, inputs in enumerate(train_loader):  \n",
    "    if batch_idx == 1:  \n",
    "        one_batch_data = inputs\n",
    "        break   \n"
   ]
  },
  {
   "cell_type": "code",
   "execution_count": null,
   "metadata": {},
   "outputs": [
    {
     "data": {
      "text/plain": [
       "torch.Size([30, 20, 159])"
      ]
     },
     "execution_count": 7,
     "metadata": {},
     "output_type": "execute_result"
    }
   ],
   "source": [
    "# 一个batch的数据\n",
    "one_batch_data.shape"
   ]
  },
  {
   "cell_type": "code",
   "execution_count": null,
   "metadata": {},
   "outputs": [
    {
     "name": "stdout",
     "output_type": "stream",
     "text": [
      "torch.Size([30, 20, 158])\n",
      "torch.Size([30])\n"
     ]
    }
   ],
   "source": [
    "\n",
    "# feature: (8192,20,158)\n",
    "feature = one_batch_data[:, :, 0:-1]\n",
    "# 8192\n",
    "label = one_batch_data[:, -1, -1]\n",
    "print(feature.shape)\n",
    "print(label.shape)\n"
   ]
  },
  {
   "cell_type": "code",
   "execution_count": null,
   "metadata": {},
   "outputs": [
    {
     "data": {
      "text/plain": [
       "torch.Size([30, 20, 512])"
      ]
     },
     "execution_count": 9,
     "metadata": {},
     "output_type": "execute_result"
    }
   ],
   "source": [
    "feature.shape\n",
    "linear1 = nn.Linear(feature.shape[2],512)\n",
    "feature = linear1(feature.float())\n",
    "feature.shape"
   ]
  },
  {
   "cell_type": "code",
   "execution_count": null,
   "metadata": {},
   "outputs": [
    {
     "ename": "ImportError",
     "evalue": "cannot import name 'Attention' from 'transformerModule' (/home/hhh/proj/qlib-main/workspace/transformerModule.py)",
     "output_type": "error",
     "traceback": [
      "\u001b[0;31m---------------------------------------------------------------------------\u001b[0m",
      "\u001b[0;31mImportError\u001b[0m                               Traceback (most recent call last)",
      "Cell \u001b[0;32mIn[10], line 1\u001b[0m\n\u001b[0;32m----> 1\u001b[0m \u001b[38;5;28;01mfrom\u001b[39;00m \u001b[38;5;21;01mtransformerModule\u001b[39;00m \u001b[38;5;28;01mimport\u001b[39;00m PositionalEncoding, Attention, FeedForwardNetwork,AddNormLayer\n\u001b[1;32m      3\u001b[0m num_features \u001b[38;5;241m=\u001b[39m feature\u001b[38;5;241m.\u001b[39mshape[\u001b[38;5;241m2\u001b[39m]\n\u001b[1;32m      4\u001b[0m max_len \u001b[38;5;241m=\u001b[39m feature\u001b[38;5;241m.\u001b[39mshape[\u001b[38;5;241m0\u001b[39m]\n",
      "\u001b[0;31mImportError\u001b[0m: cannot import name 'Attention' from 'transformerModule' (/home/hhh/proj/qlib-main/workspace/transformerModule.py)"
     ]
    }
   ],
   "source": [
    " \n",
    "from transformerModule import PositionalEncoding, Attention, FeedForwardNetwork,AddNormLayer\n",
    "\n",
    "num_features = feature.shape[2]\n",
    "max_len = feature.shape[0]\n",
    "instance = PositionalEncoding(num_features, max_len)\n",
    "addNorm = AddNormLayer(num_features, dropout=0.1)\n",
    "attn = Attention(num_features, dropout=0.1)"
   ]
  },
  {
   "cell_type": "code",
   "execution_count": null,
   "metadata": {},
   "outputs": [],
   "source": [
    "posi_out=instance(feature.float())\n",
    "addNorm_out = addNorm(posi_out, feature.float())\n",
    "attn_out=attn(addNorm_out)\n"
   ]
  },
  {
   "cell_type": "code",
   "execution_count": null,
   "metadata": {},
   "outputs": [],
   "source": [
    "feedForward = FeedForwardNetwork(num_features)\n",
    "feed_out = feedForward(attn_out)\n",
    "# loss = nn.MSELoss()\n",
    "# optimizer = optim.Adam(feedForward.parameters(), lr=0.001)\n",
    "\n",
    "# for epoch in range(100):\n",
    "#     optimizer.zero_grad()\n",
    "#     pred = feedForward.forward(attn_out)\n",
    "#     loss_val = loss(pred, target)\n",
    "#     loss_val.backward()\n",
    "#     optimizer.step()\n",
    "#     if epoch % 10 == 0:\n",
    "#         print(f\"Epoch {epoch+1}: Loss {loss_val.item():.4f}\")      "
   ]
  },
  {
   "cell_type": "code",
   "execution_count": null,
   "metadata": {},
   "outputs": [],
   "source": [
    "feed_out.shape"
   ]
  },
  {
   "cell_type": "code",
   "execution_count": null,
   "metadata": {},
   "outputs": [
    {
     "name": "stdout",
     "output_type": "stream",
     "text": [
      "tensor([0.8757, 0.2721, 0.4141], device='cuda:0')\n"
     ]
    }
   ],
   "source": [
    "# 测试随机数种子\n",
    "import torch\n",
    "import numpy as np\n",
    "seed = 32\n",
    "np.random.seed(seed) \n",
    "torch.cuda.manual_seed_all(seed)\n",
    "torch.manual_seed(seed)\n",
    "if torch.cuda.is_available():  \n",
    "    print(torch.rand(3).cuda())  #"
   ]
  },
  {
   "cell_type": "code",
   "execution_count": 1,
   "metadata": {},
   "outputs": [
    {
     "name": "stdout",
     "output_type": "stream",
     "text": [
      "tensor([[[ 0.3404, -0.0693, -0.0580,  ...,  0.1308,  0.0929,  0.1308],\n",
      "         [ 0.1879, -0.1515, -0.1827,  ...,  0.1950,  0.0717,  0.1767],\n",
      "         [ 0.3964, -0.1794, -0.1384,  ...,  0.2825,  0.1471,  0.2644],\n",
      "         [ 0.2349, -0.1145, -0.2139,  ...,  0.2555,  0.0487,  0.1271],\n",
      "         [ 0.4859, -0.1111, -0.1023,  ...,  0.1507,  0.0310,  0.1209]],\n",
      "\n",
      "        [[-0.2961,  0.2756,  0.1975,  ..., -0.0398,  0.1809, -0.0574],\n",
      "         [-0.2173,  0.1555,  0.2164,  ..., -0.1591,  0.1756,  0.0442],\n",
      "         [-0.3517,  0.4233,  0.1924,  ..., -0.1060,  0.1913,  0.0360],\n",
      "         [-0.3103,  0.5332,  0.1204,  ..., -0.1964,  0.1266,  0.0235],\n",
      "         [-0.2907,  0.4850,  0.2990,  ..., -0.0789,  0.2371,  0.1415]],\n",
      "\n",
      "        [[-0.1334,  0.4457,  0.0056,  ..., -0.2319,  0.3601,  0.0179],\n",
      "         [ 0.1575,  0.4824,  0.1847,  ..., -0.1879,  0.2204,  0.1673],\n",
      "         [-0.1338,  0.4777, -0.0485,  ..., -0.2391,  0.3283,  0.1268],\n",
      "         [-0.1690,  0.5188,  0.1346,  ..., -0.1861,  0.3455,  0.1808],\n",
      "         [-0.0892,  0.4926,  0.0429,  ..., -0.2020,  0.4968,  0.0347]],\n",
      "\n",
      "        ...,\n",
      "\n",
      "        [[-0.1547, -0.1978,  0.1352,  ...,  0.1261,  0.0604,  0.1066],\n",
      "         [-0.1335, -0.1548,  0.0387,  ...,  0.0869,  0.0110,  0.0857],\n",
      "         [-0.1877, -0.2579,  0.0936,  ...,  0.1228,  0.0524,  0.0788],\n",
      "         [-0.1970, -0.1892,  0.2554,  ..., -0.0242, -0.1364,  0.0877],\n",
      "         [-0.1245, -0.1527,  0.0816,  ...,  0.1241,  0.2238,  0.0039]],\n",
      "\n",
      "        [[ 0.1772, -0.1344,  0.3293,  ..., -0.2119, -0.3356, -0.1800],\n",
      "         [ 0.1514,  0.0712,  0.2939,  ..., -0.1051, -0.4201, -0.2666],\n",
      "         [ 0.1563, -0.0168,  0.2817,  ..., -0.2147, -0.3485, -0.2581],\n",
      "         [ 0.1816, -0.0570,  0.2800,  ..., -0.1493, -0.3478, -0.3391],\n",
      "         [ 0.1604,  0.0490,  0.3179,  ..., -0.1376, -0.3061, -0.1983]],\n",
      "\n",
      "        [[ 0.0136,  0.2206,  0.2798,  ..., -0.1936, -0.1393,  0.4158],\n",
      "         [ 0.0213,  0.1848,  0.3537,  ..., -0.1479, -0.1312,  0.3562],\n",
      "         [-0.0172,  0.2527,  0.3238,  ..., -0.2673, -0.1137,  0.3994],\n",
      "         [ 0.0828,  0.2487,  0.5671,  ..., -0.3022, -0.1175,  0.4585],\n",
      "         [-0.0169,  0.1570,  0.2540,  ..., -0.0900, -0.2370,  0.2457]]],\n",
      "       grad_fn=<CatBackward0>)\n"
     ]
    }
   ],
   "source": [
    "import numpy as np\n",
    "import torch.nn as nn\n",
    "import torch\n",
    "import math\n",
    "seed = 32\n",
    "np.random.seed(seed) \n",
    "torch.cuda.manual_seed(seed)\n",
    "torch.cuda.manual_seed_all(seed)\n",
    "torch.manual_seed(seed)\n",
    "from transformerModule import PositionalEncoding, MultiHeadAttention2, MultiHeadAttention1, MultiHeadAttention\n",
    "input = torch.randn(20,5,512)\n",
    "# linear1 = nn.Linear(input.shape[2],512)\n",
    "# linear2 = nn.Linear(input.shape[2],512)\n",
    "\n",
    "# feature = linear1(input.float())\n",
    "# re = linear2(input.float())\n",
    "# print(feature)\n",
    "# print(re)\n",
    "mul_att1 = MultiHeadAttention(2,512,0)\n",
    "mul_att_out1 = mul_att1.forward(input)\n",
    "print(mul_att_out1)\n",
    "mul_att2 = MultiHeadAttention1(512, 2)\n",
    "mul_att_out2 = mul_att2.forward(input.float())\n",
    "mul_att3 = MultiHeadAttention2(512, 2)\n",
    "mul_att_out3 = mul_att3.forward(input.float())\n"
   ]
  },
  {
   "cell_type": "code",
   "execution_count": 2,
   "metadata": {},
   "outputs": [
    {
     "data": {
      "text/plain": [
       "tensor([[[ 0.3404, -0.0693, -0.0580,  ...,  0.1308,  0.0929,  0.1308],\n",
       "         [ 0.1879, -0.1515, -0.1827,  ...,  0.1950,  0.0717,  0.1767],\n",
       "         [ 0.3964, -0.1794, -0.1384,  ...,  0.2825,  0.1471,  0.2644],\n",
       "         [ 0.2349, -0.1145, -0.2139,  ...,  0.2555,  0.0487,  0.1271],\n",
       "         [ 0.4859, -0.1111, -0.1023,  ...,  0.1507,  0.0310,  0.1209]],\n",
       "\n",
       "        [[-0.2961,  0.2756,  0.1975,  ..., -0.0398,  0.1809, -0.0574],\n",
       "         [-0.2173,  0.1555,  0.2164,  ..., -0.1591,  0.1756,  0.0442],\n",
       "         [-0.3517,  0.4233,  0.1924,  ..., -0.1060,  0.1913,  0.0360],\n",
       "         [-0.3103,  0.5332,  0.1204,  ..., -0.1964,  0.1266,  0.0235],\n",
       "         [-0.2907,  0.4850,  0.2990,  ..., -0.0789,  0.2371,  0.1415]],\n",
       "\n",
       "        [[-0.1334,  0.4457,  0.0056,  ..., -0.2319,  0.3601,  0.0179],\n",
       "         [ 0.1575,  0.4824,  0.1847,  ..., -0.1879,  0.2204,  0.1673],\n",
       "         [-0.1338,  0.4777, -0.0485,  ..., -0.2391,  0.3283,  0.1268],\n",
       "         [-0.1690,  0.5188,  0.1346,  ..., -0.1861,  0.3455,  0.1808],\n",
       "         [-0.0892,  0.4926,  0.0429,  ..., -0.2020,  0.4968,  0.0347]],\n",
       "\n",
       "        ...,\n",
       "\n",
       "        [[-0.1547, -0.1978,  0.1352,  ...,  0.1261,  0.0604,  0.1066],\n",
       "         [-0.1335, -0.1548,  0.0387,  ...,  0.0869,  0.0110,  0.0857],\n",
       "         [-0.1877, -0.2579,  0.0936,  ...,  0.1228,  0.0524,  0.0788],\n",
       "         [-0.1970, -0.1892,  0.2554,  ..., -0.0242, -0.1364,  0.0877],\n",
       "         [-0.1245, -0.1527,  0.0816,  ...,  0.1241,  0.2238,  0.0039]],\n",
       "\n",
       "        [[ 0.1772, -0.1344,  0.3293,  ..., -0.2119, -0.3356, -0.1800],\n",
       "         [ 0.1514,  0.0712,  0.2939,  ..., -0.1051, -0.4201, -0.2666],\n",
       "         [ 0.1563, -0.0168,  0.2817,  ..., -0.2147, -0.3485, -0.2581],\n",
       "         [ 0.1816, -0.0570,  0.2800,  ..., -0.1493, -0.3478, -0.3391],\n",
       "         [ 0.1604,  0.0490,  0.3179,  ..., -0.1376, -0.3061, -0.1983]],\n",
       "\n",
       "        [[ 0.0136,  0.2206,  0.2798,  ..., -0.1936, -0.1393,  0.4158],\n",
       "         [ 0.0213,  0.1848,  0.3537,  ..., -0.1479, -0.1312,  0.3562],\n",
       "         [-0.0172,  0.2527,  0.3238,  ..., -0.2673, -0.1137,  0.3994],\n",
       "         [ 0.0828,  0.2487,  0.5671,  ..., -0.3022, -0.1175,  0.4585],\n",
       "         [-0.0169,  0.1570,  0.2540,  ..., -0.0900, -0.2370,  0.2457]]],\n",
       "       grad_fn=<CatBackward0>)"
      ]
     },
     "execution_count": 2,
     "metadata": {},
     "output_type": "execute_result"
    }
   ],
   "source": [
    "mul_att_out1"
   ]
  },
  {
   "cell_type": "code",
   "execution_count": 3,
   "metadata": {},
   "outputs": [
    {
     "data": {
      "text/plain": [
       "tensor([[[-0.1202,  0.3292,  0.1323,  ..., -0.1233,  0.0701, -0.0498],\n",
       "         [-0.1498,  0.3513,  0.1852,  ..., -0.1472,  0.0423, -0.0190],\n",
       "         [-0.0857,  0.2320,  0.2141,  ..., -0.1329,  0.0818, -0.1206],\n",
       "         [-0.1141,  0.4366,  0.1576,  ..., -0.1333,  0.0887, -0.0898],\n",
       "         [-0.1479,  0.3208,  0.2210,  ..., -0.0845,  0.0514, -0.0484]],\n",
       "\n",
       "        [[-0.0188, -0.0477, -0.0510,  ...,  0.1459, -0.0102,  0.0323],\n",
       "         [-0.0213, -0.0317,  0.0122,  ...,  0.1948, -0.0639,  0.0419],\n",
       "         [-0.0883, -0.0652,  0.0037,  ...,  0.1581, -0.0815,  0.1266],\n",
       "         [-0.0895, -0.0191,  0.0118,  ...,  0.1126, -0.0149,  0.1010],\n",
       "         [ 0.0312,  0.0019, -0.0158,  ...,  0.1715,  0.0554, -0.0089]],\n",
       "\n",
       "        [[ 0.1493,  0.2193,  0.0422,  ...,  0.0860,  0.0684, -0.1021],\n",
       "         [ 0.1401,  0.2497, -0.0285,  ...,  0.0481, -0.0394, -0.0598],\n",
       "         [ 0.1341,  0.1841, -0.0650,  ...,  0.0503, -0.0361,  0.0206],\n",
       "         [ 0.1200,  0.1772,  0.0207,  ...,  0.0520, -0.0047, -0.0378],\n",
       "         [ 0.1437,  0.1709,  0.0023,  ...,  0.1097,  0.0136, -0.0361]],\n",
       "\n",
       "        ...,\n",
       "\n",
       "        [[-0.1407, -0.0443, -0.1847,  ...,  0.0166,  0.0014,  0.0398],\n",
       "         [-0.0892, -0.0283, -0.1567,  ..., -0.0758, -0.0051,  0.0498],\n",
       "         [-0.0427,  0.0172, -0.2194,  ..., -0.0648,  0.0491,  0.0949],\n",
       "         [ 0.0117, -0.0058, -0.1490,  ..., -0.0692, -0.0240,  0.0559],\n",
       "         [-0.0893, -0.0297, -0.2197,  ...,  0.0302, -0.0388,  0.0622]],\n",
       "\n",
       "        [[ 0.2374,  0.4460,  0.2064,  ...,  0.1403, -0.0546,  0.0241],\n",
       "         [ 0.2021,  0.3638,  0.2292,  ...,  0.1406,  0.0509, -0.0145],\n",
       "         [ 0.2158,  0.4190,  0.1703,  ...,  0.2343, -0.0049, -0.0280],\n",
       "         [ 0.2354,  0.4047,  0.2237,  ...,  0.0712, -0.1175,  0.0703],\n",
       "         [ 0.2282,  0.4083,  0.2142,  ...,  0.1233,  0.0105,  0.0410]],\n",
       "\n",
       "        [[-0.3067,  0.0512,  0.0574,  ..., -0.0448, -0.1031,  0.0406],\n",
       "         [-0.2038,  0.0583,  0.0656,  ..., -0.0777, -0.1308, -0.0445],\n",
       "         [-0.2164,  0.1886,  0.0223,  ...,  0.0439, -0.1357, -0.0757],\n",
       "         [-0.2772,  0.1376,  0.0437,  ..., -0.0333, -0.0411,  0.0757],\n",
       "         [-0.1643,  0.1143,  0.1365,  ..., -0.1153, -0.0966, -0.0488]]],\n",
       "       grad_fn=<ViewBackward0>)"
      ]
     },
     "execution_count": 3,
     "metadata": {},
     "output_type": "execute_result"
    }
   ],
   "source": [
    "mul_att_out2"
   ]
  },
  {
   "cell_type": "code",
   "execution_count": 4,
   "metadata": {},
   "outputs": [
    {
     "data": {
      "text/plain": [
       "tensor([[[-0.0441,  0.4273, -0.3312,  ..., -0.6886,  0.4468, -0.5582],\n",
       "         [ 0.2218,  0.7371, -0.4118,  ..., -0.7317,  0.3873, -0.6018],\n",
       "         [ 0.1115,  0.5882, -0.3344,  ..., -0.6965,  0.4719, -0.5828],\n",
       "         [ 0.0194,  0.5534, -0.3732,  ..., -0.6397,  0.4618, -0.6558],\n",
       "         [-0.0019,  0.4656, -0.2999,  ..., -0.6250,  0.5249, -0.6105]],\n",
       "\n",
       "        [[ 0.1214,  0.0786, -0.2339,  ..., -0.3898,  0.0762, -0.1128],\n",
       "         [ 0.1330,  0.3012, -0.3015,  ..., -0.4583,  0.0755, -0.1020],\n",
       "         [ 0.2969, -0.0069, -0.1047,  ..., -0.7321,  0.0875, -0.2396],\n",
       "         [ 0.0493, -0.0197, -0.2020,  ..., -0.5070,  0.0664, -0.1928],\n",
       "         [ 0.3583,  0.1236, -0.2715,  ..., -0.1624,  0.1628,  0.0235]],\n",
       "\n",
       "        [[ 0.2954,  0.3353, -0.1986,  ...,  0.1587,  0.0823,  0.1010],\n",
       "         [ 0.3411,  0.2549,  0.0070,  ...,  0.1322,  0.0889,  0.1851],\n",
       "         [ 0.3220,  0.3814, -0.2431,  ...,  0.1742,  0.2077,  0.0083],\n",
       "         [ 0.3170,  0.3355, -0.2013,  ...,  0.2339,  0.1440, -0.1071],\n",
       "         [ 0.2160,  0.4122, -0.3184,  ...,  0.1127,  0.1177, -0.0584]],\n",
       "\n",
       "        ...,\n",
       "\n",
       "        [[-0.1414,  0.2497, -0.2913,  ..., -0.1307,  0.2354, -0.1720],\n",
       "         [-0.1571,  0.3058, -0.3097,  ..., -0.1661,  0.1376, -0.1157],\n",
       "         [-0.1351,  0.2374, -0.2802,  ..., -0.1433,  0.4036, -0.1419],\n",
       "         [-0.2279,  0.3640, -0.3611,  ..., -0.1911,  0.1475, -0.0491],\n",
       "         [-0.1310,  0.2299, -0.2811,  ..., -0.1697,  0.3843, -0.1020]],\n",
       "\n",
       "        [[-0.1603,  0.0416,  0.4296,  ...,  0.0962,  0.4288, -0.7862],\n",
       "         [-0.1955,  0.0052,  0.4944,  ...,  0.0431,  0.3101, -0.7387],\n",
       "         [-0.2458,  0.0409,  0.4578,  ...,  0.2086,  0.4355, -0.7959],\n",
       "         [ 0.0915,  0.0251,  0.5035,  ..., -0.0135,  0.4023, -0.8952],\n",
       "         [ 0.0142,  0.0181,  0.5197,  ...,  0.0595,  0.4236, -0.7855]],\n",
       "\n",
       "        [[-0.4778, -0.0892,  0.3254,  ..., -0.0259, -0.0735,  0.0085],\n",
       "         [-0.3611, -0.1247,  0.3110,  ...,  0.1989, -0.0541, -0.0549],\n",
       "         [-0.4261,  0.0366,  0.3273,  ...,  0.0694, -0.0642,  0.0451],\n",
       "         [-0.3637, -0.2374,  0.2622,  ...,  0.0598, -0.0725,  0.0313],\n",
       "         [-0.4055, -0.0726,  0.2600,  ..., -0.0595,  0.0100, -0.0293]]],\n",
       "       grad_fn=<UnsafeViewBackward0>)"
      ]
     },
     "execution_count": 4,
     "metadata": {},
     "output_type": "execute_result"
    }
   ],
   "source": [
    "mul_att_out3"
   ]
  },
  {
   "cell_type": "code",
   "execution_count": null,
   "metadata": {},
   "outputs": [
    {
     "name": "stdout",
     "output_type": "stream",
     "text": [
      "tensor([[[0.2562, 0.8929, 0.5936, 0.4848],\n",
      "         [0.2629, 0.3948, 0.3084, 0.2130],\n",
      "         [0.5219, 1.4535, 0.9425, 0.7853],\n",
      "         [0.5524, 0.8696, 0.2773, 0.4491]],\n",
      "\n",
      "        [[0.4403, 0.9595, 0.1692, 0.9105],\n",
      "         [0.6753, 0.7960, 0.1774, 0.6060],\n",
      "         [0.2421, 0.4145, 0.3884, 0.2315],\n",
      "         [0.7251, 1.0493, 0.1218, 0.9191]]])\n"
     ]
    }
   ],
   "source": [
    "# 创建两个随机矩阵\n",
    "A = torch.rand(2, 3, 4)\n",
    "B = torch.rand(2,4, 3)\n",
    " \n",
    "# 使用 torch.matmul 进行矩阵乘法\n",
    "result_matmul = torch.matmul( B, A)\n",
    " \n",
    "# 使用 @ 运算符进行矩阵乘法\n",
    "result_at = A @ B\n",
    " \n",
    "# 检查结果是否相等\n",
    "print(result_matmul) "
   ]
  },
  {
   "cell_type": "code",
   "execution_count": null,
   "metadata": {},
   "outputs": [],
   "source": []
  },
  {
   "cell_type": "code",
   "execution_count": null,
   "metadata": {},
   "outputs": [],
   "source": []
  }
 ],
 "metadata": {
  "kernelspec": {
   "display_name": "venv",
   "language": "python",
   "name": "python3"
  },
  "language_info": {
   "codemirror_mode": {
    "name": "ipython",
    "version": 3
   },
   "file_extension": ".py",
   "mimetype": "text/x-python",
   "name": "python",
   "nbconvert_exporter": "python",
   "pygments_lexer": "ipython3",
   "version": "3.11.9"
  }
 },
 "nbformat": 4,
 "nbformat_minor": 4
}
