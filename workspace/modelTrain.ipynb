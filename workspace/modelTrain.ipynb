{
 "cells": [
  {
   "cell_type": "code",
   "execution_count": 13,
   "metadata": {},
   "outputs": [
    {
     "name": "stderr",
     "output_type": "stream",
     "text": [
      "[909548:MainThread](2024-11-27 21:18:56,747) INFO - qlib.Initialization - [config.py:416] - default_conf: client.\n",
      "[909548:MainThread](2024-11-27 21:18:56,750) INFO - qlib.Initialization - [__init__.py:74] - qlib successfully initialized based on client settings.\n",
      "[909548:MainThread](2024-11-27 21:18:56,751) INFO - qlib.Initialization - [__init__.py:76] - data_path={'__DEFAULT_FREQ': PosixPath('/home/hhh/.qlib/qlib_data/cn_data')}\n"
     ]
    },
    {
     "data": {
      "text/html": [
       "<div>\n",
       "<style scoped>\n",
       "    .dataframe tbody tr th:only-of-type {\n",
       "        vertical-align: middle;\n",
       "    }\n",
       "\n",
       "    .dataframe tbody tr th {\n",
       "        vertical-align: top;\n",
       "    }\n",
       "\n",
       "    .dataframe thead tr th {\n",
       "        text-align: left;\n",
       "    }\n",
       "\n",
       "    .dataframe thead tr:last-of-type th {\n",
       "        text-align: right;\n",
       "    }\n",
       "</style>\n",
       "<table border=\"1\" class=\"dataframe\">\n",
       "  <thead>\n",
       "    <tr>\n",
       "      <th></th>\n",
       "      <th></th>\n",
       "      <th colspan=\"2\" halign=\"left\">feature</th>\n",
       "      <th>label</th>\n",
       "    </tr>\n",
       "    <tr>\n",
       "      <th></th>\n",
       "      <th></th>\n",
       "      <th>EMA10</th>\n",
       "      <th>EMA30</th>\n",
       "      <th>RET_1</th>\n",
       "    </tr>\n",
       "    <tr>\n",
       "      <th>datetime</th>\n",
       "      <th>instrument</th>\n",
       "      <th></th>\n",
       "      <th></th>\n",
       "      <th></th>\n",
       "    </tr>\n",
       "  </thead>\n",
       "  <tbody>\n",
       "    <tr>\n",
       "      <th rowspan=\"5\" valign=\"top\">2020-01-02</th>\n",
       "      <th>SH600000</th>\n",
       "      <td>9.171472</td>\n",
       "      <td>9.060854</td>\n",
       "      <td>1.010425</td>\n",
       "    </tr>\n",
       "    <tr>\n",
       "      <th>SH600004</th>\n",
       "      <td>6.221383</td>\n",
       "      <td>6.198955</td>\n",
       "      <td>0.992009</td>\n",
       "    </tr>\n",
       "    <tr>\n",
       "      <th>SH600009</th>\n",
       "      <td>25.708969</td>\n",
       "      <td>25.645361</td>\n",
       "      <td>0.999224</td>\n",
       "    </tr>\n",
       "    <tr>\n",
       "      <th>SH600010</th>\n",
       "      <td>4.653900</td>\n",
       "      <td>4.625497</td>\n",
       "      <td>1.007519</td>\n",
       "    </tr>\n",
       "    <tr>\n",
       "      <th>SH600011</th>\n",
       "      <td>2.117210</td>\n",
       "      <td>2.154742</td>\n",
       "      <td>1.000000</td>\n",
       "    </tr>\n",
       "    <tr>\n",
       "      <th>...</th>\n",
       "      <th>...</th>\n",
       "      <td>...</td>\n",
       "      <td>...</td>\n",
       "      <td>...</td>\n",
       "    </tr>\n",
       "    <tr>\n",
       "      <th rowspan=\"5\" valign=\"top\">2020-01-10</th>\n",
       "      <th>SZ300347</th>\n",
       "      <td>17.478148</td>\n",
       "      <td>17.084019</td>\n",
       "      <td>0.994388</td>\n",
       "    </tr>\n",
       "    <tr>\n",
       "      <th>SZ300408</th>\n",
       "      <td>2.253388</td>\n",
       "      <td>2.172849</td>\n",
       "      <td>1.002635</td>\n",
       "    </tr>\n",
       "    <tr>\n",
       "      <th>SZ300413</th>\n",
       "      <td>5.067583</td>\n",
       "      <td>4.742254</td>\n",
       "      <td>1.017136</td>\n",
       "    </tr>\n",
       "    <tr>\n",
       "      <th>SZ300433</th>\n",
       "      <td>2.601543</td>\n",
       "      <td>2.478502</td>\n",
       "      <td>1.060436</td>\n",
       "    </tr>\n",
       "    <tr>\n",
       "      <th>SZ300498</th>\n",
       "      <td>1.029452</td>\n",
       "      <td>1.002125</td>\n",
       "      <td>1.013001</td>\n",
       "    </tr>\n",
       "  </tbody>\n",
       "</table>\n",
       "<p>2100 rows × 3 columns</p>\n",
       "</div>"
      ],
      "text/plain": [
       "                         feature                label\n",
       "                           EMA10      EMA30     RET_1\n",
       "datetime   instrument                                \n",
       "2020-01-02 SH600000     9.171472   9.060854  1.010425\n",
       "           SH600004     6.221383   6.198955  0.992009\n",
       "           SH600009    25.708969  25.645361  0.999224\n",
       "           SH600010     4.653900   4.625497  1.007519\n",
       "           SH600011     2.117210   2.154742  1.000000\n",
       "...                          ...        ...       ...\n",
       "2020-01-10 SZ300347    17.478148  17.084019  0.994388\n",
       "           SZ300408     2.253388   2.172849  1.002635\n",
       "           SZ300413     5.067583   4.742254  1.017136\n",
       "           SZ300433     2.601543   2.478502  1.060436\n",
       "           SZ300498     1.029452   1.002125  1.013001\n",
       "\n",
       "[2100 rows x 3 columns]"
      ]
     },
     "execution_count": 13,
     "metadata": {},
     "output_type": "execute_result"
    }
   ],
   "source": [
    "# 初始化配置\n",
    "import qlib\n",
    "from qlib.constant import REG_CN\n",
    "data_uri = '~/.qlib/qlib_data/cn_data/'\n",
    "qlib.init(provider_uri=data_uri, region=REG_CN)\n",
    "\n",
    "# 使用\"配置\"进行实例化\n",
    "from qlib.utils import init_instance_by_config\n",
    "qdl_config = {\n",
    "    \"class\": \"QlibDataLoader\",\n",
    "    \"module_path\": \"qlib.data.dataset.loader\",\n",
    "    \"kwargs\": {\n",
    "        \"config\": {\n",
    "            \"feature\": (['EMA($close, 10)', 'EMA($close, 30)'], ['EMA10', 'EMA30'] ),\n",
    "            \"label\": (['Ref($close, -1)/$close - 1',],['RET_1',]),\n",
    "        },\n",
    "        \"freq\": 'day',\n",
    "    },\n",
    "}\n",
    "qdl = init_instance_by_config(qdl_config)\n",
    "market = 'csi300' # 沪深300股票池代码，在instruments文件夹下有对应的sh000300.txt\n",
    "qdl.load(instruments=market, start_time='20200101', end_time='20200110')"
   ]
  },
  {
   "cell_type": "code",
   "execution_count": 8,
   "metadata": {},
   "outputs": [
    {
     "name": "stderr",
     "output_type": "stream",
     "text": [
      "[2082340:MainThread](2024-12-02 21:27:12,908) INFO - qlib.timer - [log.py:127] - Time cost: 1.733s | Loading data Done\n",
      "[2082340:MainThread](2024-12-02 21:27:12,909) INFO - qlib.timer - [log.py:127] - Time cost: 0.000s | fit & process data Done\n",
      "[2082340:MainThread](2024-12-02 21:27:12,910) INFO - qlib.timer - [log.py:127] - Time cost: 1.735s | Init data Done\n"
     ]
    },
    {
     "data": {
      "text/html": [
       "<div>\n",
       "<style scoped>\n",
       "    .dataframe tbody tr th:only-of-type {\n",
       "        vertical-align: middle;\n",
       "    }\n",
       "\n",
       "    .dataframe tbody tr th {\n",
       "        vertical-align: top;\n",
       "    }\n",
       "\n",
       "    .dataframe thead th {\n",
       "        text-align: right;\n",
       "    }\n",
       "</style>\n",
       "<table border=\"1\" class=\"dataframe\">\n",
       "  <thead>\n",
       "    <tr style=\"text-align: right;\">\n",
       "      <th></th>\n",
       "      <th></th>\n",
       "      <th>MACD</th>\n",
       "      <th>RSI</th>\n",
       "      <th>LABEL</th>\n",
       "    </tr>\n",
       "    <tr>\n",
       "      <th>datetime</th>\n",
       "      <th>instrument</th>\n",
       "      <th></th>\n",
       "      <th></th>\n",
       "      <th></th>\n",
       "    </tr>\n",
       "  </thead>\n",
       "  <tbody>\n",
       "    <tr>\n",
       "      <th rowspan=\"5\" valign=\"top\">2017-01-03</th>\n",
       "      <th>SH600000</th>\n",
       "      <td>-0.011053</td>\n",
       "      <td>21.939018</td>\n",
       "      <td>0.001834</td>\n",
       "    </tr>\n",
       "    <tr>\n",
       "      <th>SH600008</th>\n",
       "      <td>-0.004141</td>\n",
       "      <td>57.575714</td>\n",
       "      <td>0.007246</td>\n",
       "    </tr>\n",
       "    <tr>\n",
       "      <th>SH600009</th>\n",
       "      <td>-0.001988</td>\n",
       "      <td>59.183758</td>\n",
       "      <td>0.005253</td>\n",
       "    </tr>\n",
       "    <tr>\n",
       "      <th>SH600010</th>\n",
       "      <td>-0.010420</td>\n",
       "      <td>37.498512</td>\n",
       "      <td>0.000000</td>\n",
       "    </tr>\n",
       "    <tr>\n",
       "      <th>SH600015</th>\n",
       "      <td>-0.011868</td>\n",
       "      <td>37.209003</td>\n",
       "      <td>0.005386</td>\n",
       "    </tr>\n",
       "    <tr>\n",
       "      <th>...</th>\n",
       "      <th>...</th>\n",
       "      <td>...</td>\n",
       "      <td>...</td>\n",
       "      <td>...</td>\n",
       "    </tr>\n",
       "    <tr>\n",
       "      <th rowspan=\"5\" valign=\"top\">2018-12-28</th>\n",
       "      <th>SZ300144</th>\n",
       "      <td>-0.006135</td>\n",
       "      <td>67.208672</td>\n",
       "      <td>-0.085714</td>\n",
       "    </tr>\n",
       "    <tr>\n",
       "      <th>SZ300251</th>\n",
       "      <td>0.007292</td>\n",
       "      <td>42.944771</td>\n",
       "      <td>0.022368</td>\n",
       "    </tr>\n",
       "    <tr>\n",
       "      <th>SZ300296</th>\n",
       "      <td>-0.015401</td>\n",
       "      <td>43.870964</td>\n",
       "      <td>-0.016905</td>\n",
       "    </tr>\n",
       "    <tr>\n",
       "      <th>SZ300408</th>\n",
       "      <td>-0.004692</td>\n",
       "      <td>49.664413</td>\n",
       "      <td>-0.043735</td>\n",
       "    </tr>\n",
       "    <tr>\n",
       "      <th>SZ300433</th>\n",
       "      <td>-0.013095</td>\n",
       "      <td>14.838701</td>\n",
       "      <td>-0.018433</td>\n",
       "    </tr>\n",
       "  </tbody>\n",
       "</table>\n",
       "<p>146100 rows × 3 columns</p>\n",
       "</div>"
      ],
      "text/plain": [
       "                           MACD        RSI     LABEL\n",
       "datetime   instrument                               \n",
       "2017-01-03 SH600000   -0.011053  21.939018  0.001834\n",
       "           SH600008   -0.004141  57.575714  0.007246\n",
       "           SH600009   -0.001988  59.183758  0.005253\n",
       "           SH600010   -0.010420  37.498512  0.000000\n",
       "           SH600015   -0.011868  37.209003  0.005386\n",
       "...                         ...        ...       ...\n",
       "2018-12-28 SZ300144   -0.006135  67.208672 -0.085714\n",
       "           SZ300251    0.007292  42.944771  0.022368\n",
       "           SZ300296   -0.015401  43.870964 -0.016905\n",
       "           SZ300408   -0.004692  49.664413 -0.043735\n",
       "           SZ300433   -0.013095  14.838701 -0.018433\n",
       "\n",
       "[146100 rows x 3 columns]"
      ]
     },
     "execution_count": 8,
     "metadata": {},
     "output_type": "execute_result"
    }
   ],
   "source": [
    "# 实现一个自定义的特征集，MACD、RSI\n",
    "\n",
    "from qlib.data.dataset.handler import DataHandlerLP\n",
    "\n",
    "class MyFeatureSet(DataHandlerLP):\n",
    "    def __init__(self,\n",
    "                 instruments=\"csi300\", \n",
    "                 start_time=None,\n",
    "                 end_time=None,\n",
    "                 freq=\"day\",\n",
    "                 infer_processors=[],\n",
    "                 learn_processors=[],\n",
    "                 fit_start_time=None,\n",
    "                 fit_end_time=None,\n",
    "                 process_type=DataHandlerLP.PTYPE_A,\n",
    "                 filter_pipe=None,\n",
    "                 **kwargs,\n",
    "                ):\n",
    "        data_loader = {\n",
    "            \"class\": \"QlibDataLoader\",\n",
    "            \"kwargs\": {\n",
    "                \"config\": {\n",
    "                    \"feature\": self.get_feature_config(),\n",
    "                    \"label\": kwargs.get(\"label\", self.get_label_config()), # label可以自定义，也可以使用初始化时候的设置\n",
    "                },\n",
    "                \"filter_pipe\": filter_pipe,\n",
    "                \"freq\": freq,\n",
    "                },\n",
    "            }\n",
    "        super().__init__(\n",
    "            instruments=instruments,\n",
    "            start_time=start_time,\n",
    "            end_time=end_time,\n",
    "            data_loader=data_loader,\n",
    "            infer_processors=infer_processors,\n",
    "            learn_processors=learn_processors,\n",
    "            process_type=process_type,\n",
    "        )\n",
    "        \n",
    "    def get_feature_config(self):\n",
    "        \n",
    "        MACD = '(EMA($close, 12) - EMA($close, 26))/$close - EMA((EMA($close, 12) - EMA($close, 26))/$close, 9)/$close'\n",
    "        RSI = '100 - 100/(1+(Sum(Greater($close-Ref($close, 1),0), 14)/Count(($close-Ref($close, 1))>0, 14))/ (Sum(Abs(Greater(Ref($close, 1)-$close,0)), 14)/Count(($close-Ref($close, 1))<0, 14)))'\n",
    "        \n",
    "        return [MACD, RSI ], ['MACD', 'RSI']\n",
    "\n",
    "    def get_label_config(self):\n",
    "        return ([\"Ref($close, -1)/$close - 1\"], [\"LABEL\"])\n",
    "\n",
    "# 初始化的过程中已经完成的数据的load\n",
    "my_feature = MyFeatureSet(instruments='csi300', start_time='2017-01-01', end_time='2018-12-31')\n",
    "\n",
    "# my_feature.get_feature_config()\n",
    "my_feature.fetch() # my_feature.fetch(col_set='feature') / my_feature.fetch(col_set='label')"
   ]
  },
  {
   "cell_type": "code",
   "execution_count": 1,
   "metadata": {},
   "outputs": [
    {
     "name": "stderr",
     "output_type": "stream",
     "text": [
      "[2209154:MainThread](2024-12-03 21:57:17,213) INFO - qlib.Initialization - [config.py:416] - default_conf: client.\n",
      "[2209154:MainThread](2024-12-03 21:57:17,407) INFO - qlib.Initialization - [__init__.py:74] - qlib successfully initialized based on client settings.\n",
      "[2209154:MainThread](2024-12-03 21:57:17,408) INFO - qlib.Initialization - [__init__.py:76] - data_path={'__DEFAULT_FREQ': PosixPath('/home/hhh/.qlib/qlib_data/cn_data')}\n"
     ]
    },
    {
     "name": "stdout",
     "output_type": "stream",
     "text": [
      "ModuleNotFoundError. CatBoostModel are skipped. (optional: maybe installing CatBoostModel can fix it.)\n",
      "ModuleNotFoundError. XGBModel is skipped(optional: maybe installing xgboost can fix it).\n",
      "-------------DropnaLabel: label\n"
     ]
    },
    {
     "name": "stderr",
     "output_type": "stream",
     "text": [
      "/home/hhh/proj/qlib-main/venv/lib/python3.11/site-packages/tqdm/auto.py:21: TqdmWarning: IProgress not found. Please update jupyter and ipywidgets. See https://ipywidgets.readthedocs.io/en/stable/user_install.html\n",
      "  from .autonotebook import tqdm as notebook_tqdm\n",
      "[2209154:MainThread](2024-12-03 21:57:31,224) INFO - qlib.timer - [log.py:127] - Time cost: 12.462s | Loading data Done\n",
      "/home/hhh/proj/qlib-main/venv/lib/python3.11/site-packages/numpy/lib/nanfunctions.py:1095: RuntimeWarning: All-NaN slice encountered\n",
      "  result = np.apply_along_axis(_nanmedian1d, axis, a, overwrite_input)\n",
      "[2209154:MainThread](2024-12-03 21:57:33,947) INFO - qlib.timer - [log.py:127] - Time cost: 2.665s | RobustZScoreNorm Done\n",
      "[2209154:MainThread](2024-12-03 21:57:34,034) INFO - qlib.timer - [log.py:127] - Time cost: 0.087s | Fillna Done\n",
      "[2209154:MainThread](2024-12-03 21:57:34,090) INFO - qlib.timer - [log.py:127] - Time cost: 0.036s | DropnaLabel Done\n",
      "/home/hhh/proj/qlib-main/qlib/data/dataset/processor.py:370: SettingWithCopyWarning: \n",
      "A value is trying to be set on a copy of a slice from a DataFrame.\n",
      "Try using .loc[row_indexer,col_indexer] = value instead\n",
      "\n",
      "See the caveats in the documentation: https://pandas.pydata.org/pandas-docs/stable/user_guide/indexing.html#returning-a-view-versus-a-copy\n",
      "  df[cols] = t\n",
      "[2209154:MainThread](2024-12-03 21:57:34,142) INFO - qlib.timer - [log.py:127] - Time cost: 0.052s | CSRankNorm Done\n",
      "[2209154:MainThread](2024-12-03 21:57:34,143) INFO - qlib.timer - [log.py:127] - Time cost: 2.918s | fit & process data Done\n",
      "[2209154:MainThread](2024-12-03 21:57:34,143) INFO - qlib.timer - [log.py:127] - Time cost: 15.381s | Init data Done\n"
     ]
    }
   ],
   "source": [
    "\n",
    "import qlib\n",
    "from qlib.constant import REG_CN\n",
    "data_uri = '~/.qlib/qlib_data/cn_data/'\n",
    "qlib.init(provider_uri=data_uri, region=REG_CN)\n",
    "from qlib.data.dataset.handler import DataHandlerLP\n",
    "\n",
    "# 使用\"配置\"进行实例化\n",
    "from qlib.utils import init_instance_by_config\n",
    "from qlib.contrib.data.handler import Alpha158\n",
    "from qlib.data.dataset import TSDatasetH\n",
    "from qlib.contrib.model.pytorch_alstm_ts import ALSTM\n",
    "\n",
    "# 配置数据\n",
    "train_period = (\"2018-01-01\", \"2018-12-31\")\n",
    "valid_period = (\"2019-01-01\", \"2019-12-31\")\n",
    "test_period = (\"2020-01-01\", \"2020-08-01\")\n",
    "\n",
    "dh = Alpha158(instruments='csi300', \n",
    "              start_time=train_period[0], \n",
    "              end_time=test_period[1],\n",
    "             fit_start_time = \"2018-01-01\",\n",
    "             fit_end_time = \"2019-12-31\",\n",
    "              infer_processors= [\n",
    "                        {\"class\": \"RobustZScoreNorm\", \"kwargs\": {\"fields_group\": \"feature\", \"clip_outlier\": \"true\"}},\n",
    "                        {\"class\": \"Fillna\", \"kwargs\": {\"fields_group\": \"feature\"}},\n",
    "                    ],\n",
    "            learn_processors= [\n",
    "                        \"DropnaLabel\",\n",
    "                        {\"class\": \"CSRankNorm\", \"kwargs\": {\"fields_group\": \"label\"}},  # CSRankNorm\n",
    "                    ],\n",
    "             )\n",
    "ds = TSDatasetH(handler=dh,\n",
    "                step_len=20, # 时间步数\n",
    "                segments={\"train\": train_period, \n",
    "                          \"valid\": valid_period, \n",
    "                          \"test\": test_period})\n"
   ]
  },
  {
   "cell_type": "code",
   "execution_count": 2,
   "metadata": {},
   "outputs": [
    {
     "data": {
      "text/plain": [
       "<qlib.data.dataset.TSDataSampler at 0x7f1695c95110>"
      ]
     },
     "execution_count": 2,
     "metadata": {},
     "output_type": "execute_result"
    }
   ],
   "source": [
    "ds.prepare(\"train\")"
   ]
  },
  {
   "cell_type": "code",
   "execution_count": 3,
   "metadata": {},
   "outputs": [],
   "source": [
    "import torch\n",
    "import torch.nn as nn\n",
    "import torch.optim as optim\n",
    "from torch.utils.data import DataLoader\n",
    "#%%\n",
    "from qlib.data.dataset.handler import DataHandlerLP\n",
    "dl_train = ds.prepare(\"train\", col_set=[\"feature\", \"label\"], data_key=DataHandlerLP.DK_L)\n",
    "dl_valid = ds.prepare(\"valid\", col_set=[\"feature\", \"label\"], data_key=DataHandlerLP.DK_L)\n"
   ]
  },
  {
   "cell_type": "code",
   "execution_count": 4,
   "metadata": {},
   "outputs": [],
   "source": [
    "dl_train.config(fillna_type=\"ffill+bfill\")  # process nan brought by dataloader\n",
    "dl_valid.config(fillna_type=\"ffill+bfill\")"
   ]
  },
  {
   "cell_type": "code",
   "execution_count": 5,
   "metadata": {},
   "outputs": [],
   "source": [
    "import numpy as np\n",
    "import torch.nn as nn\n",
    "import torch\n",
    "import math\n",
    "seed = 32\n",
    "np.random.seed(seed) \n",
    "torch.cuda.manual_seed(seed)\n",
    "torch.cuda.manual_seed_all(seed)\n",
    "torch.manual_seed(seed)\n",
    "\n",
    "train_loader = DataLoader(\n",
    "dl_train, batch_size=5192, shuffle=True, num_workers=0, drop_last=True\n",
    ")\n",
    "valid_loader = DataLoader(\n",
    "dl_valid, batch_size=5192, shuffle=True, num_workers=0, drop_last=True\n",
    ")"
   ]
  },
  {
   "cell_type": "code",
   "execution_count": 6,
   "metadata": {},
   "outputs": [
    {
     "name": "stdout",
     "output_type": "stream",
     "text": [
      "Epoch 0\n",
      "train 1.526563, valid 1.225405\n",
      "Epoch 1\n",
      "train 1.389690, valid 1.192478\n",
      "Epoch 2\n",
      "train 1.328567, valid 1.516166\n",
      "Epoch 3\n",
      "train 2.614228, valid 1.628637\n",
      "Epoch 4\n",
      "train 1.225518, valid 1.193989\n"
     ]
    },
    {
     "data": {
      "image/png": "[encoded data removed]",
      "text/plain": [
       "<Figure size 1000x600 with 1 Axes>"
      ]
     },
     "metadata": {},
     "output_type": "display_data"
    }
   ],
   "source": [
    "from transformerModule import train_transformer, test_transformer\n",
    "import matplotlib.pyplot as plt\n",
    "n_epochs = 5\n",
    "train_losses = []\n",
    "val_losses = []\n",
    "for epoch in range(n_epochs):\n",
    "    print(\"Epoch %d\" % epoch)\n",
    "    train_transformer(train_loader, epoch)\n",
    "    train_loss, train_score =test_transformer(train_loader)\n",
    "    val_loss, val_score = test_transformer(valid_loader)\n",
    "    print(\"train %.6f, valid %.6f\" % (train_score, val_score))\n",
    "    train_losses.append(train_loss)\n",
    "    val_losses.append(val_loss)\n",
    "\n",
    "\n",
    "# 绘制损失曲线\n",
    "plt.figure(figsize=(10, 6))\n",
    "plt.plot(train_losses, label='Training Loss')\n",
    "plt.plot(val_losses, label='Validation Loss')\n",
    "plt.title('Loss Curve')\n",
    "plt.xlabel('Epochs')\n",
    "plt.ylabel('Loss')\n",
    "plt.legend()\n",
    "plt.grid(True)\n",
    "plt.show()"
   ]
  },
  {
   "cell_type": "code",
   "execution_count": null,
   "metadata": {},
   "outputs": [],
   "source": [
    "import matplotlib.pyplot as plt\n",
    " \n",
    "# 绘制损失曲线\n",
    "plt.figure(figsize=(10, 6))\n",
    "plt.plot(train_losses, label='Training Loss')\n",
    "plt.plot(val_losses, label='Validation Loss')\n",
    "plt.title('Loss Curve')\n",
    "plt.xlabel('Epochs')\n",
    "plt.ylabel('Loss')\n",
    "plt.legend()\n",
    "plt.grid(True)\n",
    "plt.show()"
   ]
  },
  {
   "cell_type": "code",
   "execution_count": 6,
   "metadata": {},
   "outputs": [],
   "source": [
    "for batch_idx, inputs in enumerate(train_loader):  \n",
    "    if batch_idx == 1:  \n",
    "        one_batch_data = inputs\n",
    "        break   \n"
   ]
  },
  {
   "cell_type": "code",
   "execution_count": 19,
   "metadata": {},
   "outputs": [
    {
     "data": {
      "text/plain": [
       "tensor([[[ 0.1387,  0.1772,  0.1145,  ...,  0.2158,  0.4777,  2.0210],\n",
       "         [ 0.8577,  0.0810,  0.7436,  ...,  0.2945, -0.1825,  1.9877],\n",
       "         [ 1.3295,  0.0739,  1.1570,  ...,  0.3415,  0.7349,  2.0322],\n",
       "         ...,\n",
       "         [ 1.6707,  0.6314,  1.1274,  ...,  0.6846, -0.4380,  1.9925],\n",
       "         [ 0.2362, -0.3038,  0.2558,  ..., -0.1987, -0.4414,  1.9705],\n",
       "         [-0.4864,  0.5911, -0.3337,  ..., -0.5573, -0.4111,  1.9950]],\n",
       "\n",
       "        [[ 0.8577,  0.0810,  0.7436,  ...,  0.2945, -0.1825,  1.9877],\n",
       "         [ 1.3295,  0.0739,  1.1570,  ...,  0.3415,  0.7349,  2.0322],\n",
       "         [-0.7952,  0.1659, -0.6604,  ...,  0.6540,  0.9253,  2.0003],\n",
       "         ...,\n",
       "         [ 0.2362, -0.3038,  0.2558,  ..., -0.1987, -0.4414,  1.9705],\n",
       "         [-0.4864,  0.5911, -0.3337,  ..., -0.5573, -0.4111,  1.9950],\n",
       "         [-1.7438,  1.5083, -0.8695,  ...,  0.1983, -0.0648,  1.9972]],\n",
       "\n",
       "        [[ 1.3295,  0.0739,  1.1570,  ...,  0.3415,  0.7349,  2.0322],\n",
       "         [-0.7952,  0.1659, -0.6604,  ...,  0.6540,  0.9253,  2.0003],\n",
       "         [ 1.8783,  1.7672,  0.8695,  ...,  1.0023,  1.7765,  2.0309],\n",
       "         ...,\n",
       "         [-0.4864,  0.5911, -0.3337,  ..., -0.5573, -0.4111,  1.9950],\n",
       "         [-1.7438,  1.5083, -0.8695,  ...,  0.1983, -0.0648,  1.9972],\n",
       "         [-0.6484,  0.3317, -0.4976,  ..., -1.0335, -0.1661,  1.9717]],\n",
       "\n",
       "        ...,\n",
       "\n",
       "        [[ 0.3703, -1.1355,  0.8673,  ...,  0.3371,  0.7985,  1.9986],\n",
       "         [ 0.4615, -1.0866,  1.0117,  ...,  1.3228,  1.5455,  1.9851],\n",
       "         [-0.0917, -1.0920, -0.2025,  ...,  0.9563,  0.6956,  1.9993],\n",
       "         ...,\n",
       "         [-0.0469, -1.3853, -0.1689,  ...,  0.0714,  0.2179,  2.0029],\n",
       "         [ 0.2351, -1.1760,  0.5837,  ...,  0.2000,  0.2501,  2.0065],\n",
       "         [ 0.3286, -0.9179,  0.5901,  ...,  0.3146,  0.7818,  1.9979]],\n",
       "\n",
       "        [[ 0.4615, -1.0866,  1.0117,  ...,  1.3228,  1.5455,  1.9851],\n",
       "         [-0.0917, -1.0920, -0.2025,  ...,  0.9563,  0.6956,  1.9993],\n",
       "         [-0.2783, -1.0316, -0.5691,  ...,  1.7631,  2.1238,  1.9885],\n",
       "         ...,\n",
       "         [ 0.2351, -1.1760,  0.5837,  ...,  0.2000,  0.2501,  2.0065],\n",
       "         [ 0.3286, -0.9179,  0.5901,  ...,  0.3146,  0.7818,  1.9979],\n",
       "         [ 1.3261, -0.2303,  1.3707,  ...,  1.2879,  2.0995,  1.9978]],\n",
       "\n",
       "        [[-0.0917, -1.0920, -0.2025,  ...,  0.9563,  0.6956,  1.9993],\n",
       "         [-0.2783, -1.0316, -0.5691,  ...,  1.7631,  2.1238,  1.9885],\n",
       "         [ 0.0933, -1.3354,  0.3034,  ...,  0.7100,  0.7141,  2.0022],\n",
       "         ...,\n",
       "         [ 0.3286, -0.9179,  0.5901,  ...,  0.3146,  0.7818,  1.9979],\n",
       "         [ 1.3261, -0.2303,  1.3707,  ...,  1.2879,  2.0995,  1.9978],\n",
       "         [ 0.0932, -1.0795,  0.2025,  ..., -1.3661,  0.1268,  1.9978]]])"
      ]
     },
     "execution_count": 19,
     "metadata": {},
     "output_type": "execute_result"
    }
   ],
   "source": [
    "one_batch_data"
   ]
  },
  {
   "cell_type": "code",
   "execution_count": 9,
   "metadata": {},
   "outputs": [
    {
     "data": {
      "text/plain": [
       "torch.Size([8192, 20, 159])"
      ]
     },
     "execution_count": 9,
     "metadata": {},
     "output_type": "execute_result"
    }
   ],
   "source": [
    "# 一个batch的数据\n",
    "one_batch_data.shape"
   ]
  },
  {
   "cell_type": "code",
   "execution_count": 7,
   "metadata": {},
   "outputs": [
    {
     "name": "stdout",
     "output_type": "stream",
     "text": [
      "torch.Size([8192, 20, 158])\n",
      "tensor([0.9950, 0.9972, 0.9717,  ..., 0.9979, 0.9978, 0.9978])\n"
     ]
    }
   ],
   "source": [
    "\n",
    "# feature: (8192,20,158)\n",
    "feature = one_batch_data[:, :, 0:-1]\n",
    "# 8192\n",
    "label = one_batch_data[:, -1, -1]\n",
    "print(feature.shape)\n",
    "print(label)\n"
   ]
  },
  {
   "cell_type": "code",
   "execution_count": 21,
   "metadata": {},
   "outputs": [
    {
     "name": "stdout",
     "output_type": "stream",
     "text": [
      "Total number of parameters: 1296543\n"
     ]
    },
    {
     "ename": "NameError",
     "evalue": "name 'feature' is not defined",
     "output_type": "error",
     "traceback": [
      "\u001b[0;31m---------------------------------------------------------------------------\u001b[0m",
      "\u001b[0;31mNameError\u001b[0m                                 Traceback (most recent call last)",
      "Cell \u001b[0;32mIn[21], line 24\u001b[0m\n\u001b[1;32m     22\u001b[0m total_params \u001b[38;5;241m=\u001b[39m \u001b[38;5;28msum\u001b[39m(p\u001b[38;5;241m.\u001b[39mnumel() \u001b[38;5;28;01mfor\u001b[39;00m p \u001b[38;5;129;01min\u001b[39;00m model\u001b[38;5;241m.\u001b[39mparameters())\n\u001b[1;32m     23\u001b[0m \u001b[38;5;28mprint\u001b[39m(\u001b[38;5;124mf\u001b[39m\u001b[38;5;124m\"\u001b[39m\u001b[38;5;124mTotal number of parameters: \u001b[39m\u001b[38;5;132;01m{\u001b[39;00mtotal_params\u001b[38;5;132;01m}\u001b[39;00m\u001b[38;5;124m\"\u001b[39m)\n\u001b[0;32m---> 24\u001b[0m pred \u001b[38;5;241m=\u001b[39m model\u001b[38;5;241m.\u001b[39mforward(\u001b[43mfeature\u001b[49m\u001b[38;5;241m.\u001b[39mfloat())\u001b[38;5;241m.\u001b[39msqueeze(\u001b[38;5;241m-\u001b[39m\u001b[38;5;241m1\u001b[39m)\n\u001b[1;32m     25\u001b[0m train_optimizer \u001b[38;5;241m=\u001b[39m optim\u001b[38;5;241m.\u001b[39mAdam(model\u001b[38;5;241m.\u001b[39mparameters(), lr\u001b[38;5;241m=\u001b[39m\u001b[38;5;241m0.0001\u001b[39m, weight_decay\u001b[38;5;241m=\u001b[39m\u001b[38;5;241m1e-3\u001b[39m)\n\u001b[1;32m     26\u001b[0m mask \u001b[38;5;241m=\u001b[39m \u001b[38;5;241m~\u001b[39mtorch\u001b[38;5;241m.\u001b[39misnan(label)\n",
      "\u001b[0;31mNameError\u001b[0m: name 'feature' is not defined"
     ]
    }
   ],
   "source": [
    "import numpy as np\n",
    "import torch.nn as nn\n",
    "import torch\n",
    "import torch.optim as optim\n",
    "import math\n",
    "seed = 32\n",
    "np.random.seed(seed) \n",
    "torch.cuda.manual_seed(seed)\n",
    "torch.cuda.manual_seed_all(seed)\n",
    "torch.manual_seed(seed)\n",
    "from transformerModule import PositionalEncoding, MultiHeadAttention,TransformerModule\n",
    "# linear = nn.Linear()\n",
    "\n",
    "# input = torch.randn(20,5,158)\n",
    "# mul_att1 = MultiHeadAttention(2,512,0)\n",
    "# mul_att_out1 = mul_att1.forward(input)\n",
    "# print(mul_att_out1)\n",
    "# mul_att2 = PositionalEncoding(512, 100)\n",
    "# mul_att_out2 = mul_att2.forward(input.float())\n",
    "# 模型输出测试\n",
    "model = TransformerModule(158, 512, 0.1, 6)\n",
    "pred = model.forward(feature.float()).squeeze(-1)\n",
    "train_optimizer = optim.Adam(model.parameters(), lr=0.0001, weight_decay=1e-3)\n",
    "mask = ~torch.isnan(label)\n",
    "loss = torch.mean((pred[mask]-label[mask])**2)\n",
    "train_optimizer.zero_grad()\n",
    "loss.backward()\n",
    "train_optimizer.step()\n",
    "print(pred.shape)\n",
    "print(pred)\n"
   ]
  },
  {
   "cell_type": "code",
   "execution_count": 12,
   "metadata": {},
   "outputs": [
    {
     "data": {
      "text/plain": [
       "device(type='cuda', index=0)"
      ]
     },
     "execution_count": 12,
     "metadata": {},
     "output_type": "execute_result"
    }
   ],
   "source": [
    "torch.device(\"cuda:0\" if torch.cuda.is_available() else \"cpu\")"
   ]
  },
  {
   "cell_type": "code",
   "execution_count": 19,
   "metadata": {},
   "outputs": [],
   "source": [
    "test = torch.rand(3,4,5)"
   ]
  },
  {
   "cell_type": "code",
   "execution_count": 20,
   "metadata": {},
   "outputs": [
    {
     "data": {
      "text/plain": [
       "tensor([[[0.7605, 0.8524, 0.6648, 0.9480, 0.4735],\n",
       "         [0.8731, 0.3785, 0.3258, 0.2027, 0.7167],\n",
       "         [0.8117, 0.1121, 0.6466, 0.9719, 0.9213],\n",
       "         [0.3831, 0.3930, 0.5797, 0.6329, 0.2640]],\n",
       "\n",
       "        [[0.9705, 0.4962, 0.7696, 0.2525, 0.0741],\n",
       "         [0.3559, 0.4318, 0.9146, 0.9795, 0.4408],\n",
       "         [0.9902, 0.5128, 0.5951, 0.8934, 0.2516],\n",
       "         [0.4185, 0.4892, 0.6723, 0.3938, 0.6720]],\n",
       "\n",
       "        [[0.8764, 0.2443, 0.3268, 0.9680, 0.2575],\n",
       "         [0.3969, 0.0577, 0.7201, 0.4786, 0.4490],\n",
       "         [0.8341, 0.8497, 0.9446, 0.2704, 0.6773],\n",
       "         [0.5130, 0.7120, 0.9063, 0.8501, 0.9215]]])"
      ]
     },
     "execution_count": 20,
     "metadata": {},
     "output_type": "execute_result"
    }
   ],
   "source": [
    "test"
   ]
  },
  {
   "cell_type": "code",
   "execution_count": 21,
   "metadata": {},
   "outputs": [
    {
     "data": {
      "text/plain": [
       "tensor([[0.3831, 0.3930, 0.5797, 0.6329, 0.2640],\n",
       "        [0.4185, 0.4892, 0.6723, 0.3938, 0.6720],\n",
       "        [0.5130, 0.7120, 0.9063, 0.8501, 0.9215]])"
      ]
     },
     "execution_count": 21,
     "metadata": {},
     "output_type": "execute_result"
    }
   ],
   "source": [
    "test[:,-1,:]"
   ]
  },
  {
   "cell_type": "code",
   "execution_count": 23,
   "metadata": {},
   "outputs": [
    {
     "data": {
      "text/plain": [
       "torch.Size([3, 5])"
      ]
     },
     "execution_count": 23,
     "metadata": {},
     "output_type": "execute_result"
    }
   ],
   "source": [
    "test[:,-1,:].shape"
   ]
  },
  {
   "cell_type": "code",
   "execution_count": null,
   "metadata": {},
   "outputs": [],
   "source": []
  }
 ],
 "metadata": {
  "kernelspec": {
   "display_name": "venv",
   "language": "python",
   "name": "python3"
  },
  "language_info": {
   "codemirror_mode": {
    "name": "ipython",
    "version": 3
   },
   "file_extension": ".py",
   "mimetype": "text/x-python",
   "name": "python",
   "nbconvert_exporter": "python",
   "pygments_lexer": "ipython3",
   "version": "3.11.9"
  }
 },
 "nbformat": 4,
 "nbformat_minor": 4
}
